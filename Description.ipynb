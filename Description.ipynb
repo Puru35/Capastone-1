{
  "nbformat": 4,
  "nbformat_minor": 0,
  "metadata": {
    "colab": {
      "name": "README",
      "provenance": [],
      "collapsed_sections": [],
      "toc_visible": true,
      "authorship_tag": "ABX9TyNj+qFT+pRHT9ZT71qIW2UB",
      "include_colab_link": true
    },
    "kernelspec": {
      "name": "python3",
      "display_name": "Python 3"
    }
  },
  "cells": [
    {
      "cell_type": "markdown",
      "metadata": {
        "id": "view-in-github",
        "colab_type": "text"
      },
      "source": [
        "<a href=\"https://colab.research.google.com/github/Puru35/Capastone-1/blob/master/Description.ipynb\" target=\"_parent\"><img src=\"https://colab.research.google.com/assets/colab-badge.svg\" alt=\"Open In Colab\"/></a>"
      ]
    },
    {
      "cell_type": "markdown",
      "metadata": {
        "id": "DG7BV2dkNVKi",
        "colab_type": "text"
      },
      "source": [
        "# **Student Result Prediction**"
      ]
    },
    {
      "cell_type": "markdown",
      "metadata": {
        "id": "ZhDdIUATNjNI",
        "colab_type": "text"
      },
      "source": [
        "## **About the Data Set**\n",
        "\n",
        "This capstone project is based off the \"Student Performance Data Set\" present in the Machine Learning Repository of the UCI archives. The Data Set contains features ranging from age and gender of the child, to his parents education and his previous marks. There are no missing values in this data set. As the file present on the website contains two csv files, one for mathematics, and one for portugese, I have taken the former as my training data set, and latter as my test data set. The Target attribute here \"G3\" which is the final marks obtained by the student.\n",
        "\n",
        "Number of Instances: 649"
      ]
    },
    {
      "cell_type": "markdown",
      "metadata": {
        "id": "nXEYkK6QNjYj",
        "colab_type": "text"
      },
      "source": [
        "## **Attribute Information**\n",
        "\n",
        "The following applies for both data sets present:\n",
        "\n",
        "Total Number of attributes: **33**\n",
        "\n",
        "1 school - student's school (binary: 'GP' - Gabriel Pereira or 'MS' - Mousinho da Silveira)\n",
        "\n",
        "2 sex - student's sex (binary: 'F' - female or 'M' - male)\n",
        "\n",
        "3 age - student's age (numeric: from 15 to 22)\n",
        "\n",
        "4 address - student's home address type (binary: 'U' - urban or 'R' - rural)\n",
        "\n",
        "5 famsize - family size (binary: 'LE3' - less or equal to 3 or 'GT3' - greater than 3)\n",
        "\n",
        "6 Pstatus - parent's cohabitation status (binary: 'T' - living together or 'A' - apart)\n",
        "\n",
        "7 Medu - mother's education (numeric: 0 - none, 1 - primary education (4th grade), 2 - 5th to 9th grade, 3 - secondary education or 4 - higher education)\n",
        "\n",
        "8 Fedu - father's education (numeric: 0 - none, 1 - primary education (4th grade), 2 - 5th to 9th grade, 3 - secondary education or 4 - higher education)\n",
        "\n",
        "9 Mjob - mother's job (nominal: 'teacher', 'health' care related, civil 'services' (e.g. administrative or police), 'at_home' or 'other')\n",
        "\n",
        "10 Fjob - father's job (nominal: 'teacher', 'health' care related, civil 'services' (e.g. administrative or police), 'at_home' or 'other')\n",
        "\n",
        "11 reason - reason to choose this school (nominal: close to 'home', school 'reputation', 'course' preference or 'other')\n",
        "\n",
        "12 guardian - student's guardian (nominal: 'mother', 'father' or 'other')\n",
        "\n",
        "13 traveltime - home to school travel time (numeric: 1 - <15 min, 2 - 15 to 30 min., 3 - 30 min. to 1 hour, or 4 - >1 hour)\n",
        "\n",
        "14 studytime - weekly study time (numeric: 1 - <2 hours, 2 - 2 to 5 hours, 3 - 5 to 10 hours, or 4 - >10 hours)\n",
        "\n",
        "15 failures - number of past class failures (numeric: n if 1<=n<3, else 4)\n",
        "\n",
        "16 schoolsup - extra educational support (binary: yes or no)\n",
        "\n",
        "17 famsup - family educational support (binary: yes or no)\n",
        "\n",
        "18 paid - extra paid classes within the course subject (Math or Portuguese) \n",
        "(binary: yes or no)\n",
        "\n",
        "19 activities - extra-curricular activities (binary: yes or no)\n",
        "\n",
        "20 nursery - attended nursery school (binary: yes or no)\n",
        "\n",
        "21 higher - wants to take higher education (binary: yes or no)\n",
        "\n",
        "22 internet - Internet access at home (binary: yes or no)\n",
        "\n",
        "23 romantic - with a romantic relationship (binary: yes or no)\n",
        "\n",
        "24 famrel - quality of family relationships (numeric: from 1 - very bad to 5 - excellent)\n",
        "\n",
        "25 freetime - free time after school (numeric: from 1 - very low to 5 - very high)\n",
        "\n",
        "26 goout - going out with friends (numeric: from 1 - very low to 5 - very high)\n",
        "\n",
        "27 Dalc - workday alcohol consumption (numeric: from 1 - very low to 5 - very high)\n",
        "\n",
        "28 Walc - weekend alcohol consumption (numeric: from 1 - very low to 5 - very high)\n",
        "\n",
        "29 health - current health status (numeric: from 1 - very bad to 5 - very good)\n",
        "\n",
        "30 absences - number of school absences (numeric: from 0 to 93)\n",
        "\n",
        "31 G1 - first period grade (numeric: from 0 to 20)\n",
        "\n",
        "32 G2 - second period grade (numeric: from 0 to 20)\n",
        "\n",
        "33 G3 - final grade (numeric: from 0 to 20, output target) "
      ]
    },
    {
      "cell_type": "markdown",
      "metadata": {
        "id": "i8TsRaxENjhH",
        "colab_type": "text"
      },
      "source": [
        "## **Problem Statement**\n",
        "\n",
        "Since we need to predict the final marks of the student, this is an estimation problem. We need to train the model in such a way that it can predict the final marks with as less an error as possible. We will also try to find out the relation of the target with some of the various attributes given to us, hopefully from which we may derive some inisghts as to what affects a student's performance. "
      ]
    }
  ]
}
