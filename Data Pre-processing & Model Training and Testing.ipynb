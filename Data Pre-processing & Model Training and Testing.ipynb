{
  "nbformat": 4,
  "nbformat_minor": 0,
  "metadata": {
    "kernelspec": {
      "display_name": "Python 3",
      "language": "python",
      "name": "python3"
    },
    "language_info": {
      "codemirror_mode": {
        "name": "ipython",
        "version": 3
      },
      "file_extension": ".py",
      "mimetype": "text/x-python",
      "name": "python",
      "nbconvert_exporter": "python",
      "pygments_lexer": "ipython3",
      "version": "3.7.1"
    },
    "colab": {
      "name": "Model creation, training, and testing",
      "provenance": [],
      "collapsed_sections": [],
      "toc_visible": true,
      "include_colab_link": true
    }
  },
  "cells": [
    {
      "cell_type": "markdown",
      "metadata": {
        "id": "view-in-github",
        "colab_type": "text"
      },
      "source": [
        "<a href=\"https://colab.research.google.com/github/Puru35/Student-Result-Prediction/blob/master/Data%20Pre-processing%20%26%20Model%20Training%20and%20Testing.ipynb\" target=\"_parent\"><img src=\"https://colab.research.google.com/assets/colab-badge.svg\" alt=\"Open In Colab\"/></a>"
      ]
    },
    {
      "cell_type": "markdown",
      "metadata": {
        "id": "GkJyifZobvce",
        "colab_type": "text"
      },
      "source": [
        "We now import the csv files we created in the last segment of our project, to this section. This section contains the data pre-processing, and model training and testing parts of the project.\n",
        "\n",
        "Since we cleaned our data in two ways, we will have to use both types of data sets. We will first use \"Train 1\" and \"Test 1\"."
      ]
    },
    {
      "cell_type": "markdown",
      "metadata": {
        "id": "Ummf7er36Wie",
        "colab_type": "text"
      },
      "source": [
        "Table of contents:\n",
        "\n",
        "    Import the 4 data sets.\n",
        "\n",
        "    Normalization of features.\n",
        "\n",
        "    Train and Test Data Set -- 1\n",
        "\n",
        "      Correlation of Target with all other features.\n",
        "\n",
        "      Visualization of Features.\n",
        "\n",
        "      Linear Regression.\n",
        "\n",
        "        Hypothesis Equation\n",
        "\n",
        "        Error/Cost Function\n",
        "\n",
        "        Step Gradient Function\n",
        "\n",
        "        Gradient descent Function\n",
        "\n",
        "        Training the Model\n",
        "\n",
        "        Deviation of Prediction From Actual Output (Train and Test)\n",
        "\n",
        "      Multivariate Polynomial Regression\n",
        "\n",
        "        Hypothesis Equation\n",
        "\n",
        "        Error/Cost Function\n",
        "        \n",
        "        Step Gradient Function\n",
        "\n",
        "        Gradient Descent Function\n",
        "\n",
        "        Training the Model\n",
        "\n",
        "        Deviation of Prediction From Actual Output (Train and Test)\n",
        "\n",
        "    Train and Test Data Set -- 2\n",
        "\n",
        "      Correlation of Target with all other features.\n",
        "\n",
        "      Visualization of Features.\n",
        "\n",
        "      Linear Regression\n",
        "\n",
        "        Training the model\n",
        "\n",
        "        Deviation of Prediction From Actual Output (Train and Test)\n",
        "\n",
        "      Multivariate Polynomial Regression\n",
        "\n",
        "        Training the Model\n",
        "\n",
        "        Deviation of Prediction From Actual Output (Train and Test)\n",
        "    \n",
        "    Summary\n"
      ]
    },
    {
      "cell_type": "code",
      "metadata": {
        "id": "u4OSWFlaGc5y",
        "colab_type": "code",
        "colab": {}
      },
      "source": [
        "import pandas as pd\n",
        "import numpy as np\n",
        "import matplotlib.pyplot as plt\n",
        "from sklearn.model_selection import train_test_split\n",
        "from sklearn.decomposition import PCA\n",
        "from sklearn.preprocessing import OneHotEncoder, MinMaxScaler\n",
        "from mpl_toolkits.mplot3d import Axes3D\n",
        "import seaborn as sns"
      ],
      "execution_count": 0,
      "outputs": []
    },
    {
      "cell_type": "markdown",
      "metadata": {
        "id": "f_hDxlI7csaa",
        "colab_type": "text"
      },
      "source": [
        "In the following section, we drop the first column from all 4 data sets, as an unwanted index column is created while converting to csv in the data cleaning process."
      ]
    },
    {
      "cell_type": "markdown",
      "metadata": {
        "id": "hpW0r9_Pr23k",
        "colab_type": "text"
      },
      "source": [
        "#Import the 4 data sets."
      ]
    },
    {
      "cell_type": "code",
      "metadata": {
        "id": "Zu_YzDaDw-R9",
        "colab_type": "code",
        "colab": {}
      },
      "source": [
        "data1 = pd.read_csv(\"Train 1.csv\").drop(pd.read_csv(\"Train 1.csv\").columns[0], axis =1)\n",
        "test_data1 = pd.read_csv(\"Test 1.csv\").drop(pd.read_csv(\"Test 1.csv\").columns[0], axis =1)\n",
        "data2 = pd.read_csv(\"Train 2.csv\").drop(pd.read_csv(\"Train 2.csv\").columns[0], axis =1)\n",
        "test_data2 = pd.read_csv(\"Test 2.csv\").drop(pd.read_csv(\"Test 2.csv\").columns[0], axis =1)\n",
        "\n"
      ],
      "execution_count": 0,
      "outputs": []
    },
    {
      "cell_type": "markdown",
      "metadata": {
        "id": "z7uJYvtewmWw",
        "colab_type": "text"
      },
      "source": [
        "For this project refer to the following:\n",
        "\n",
        "Train 1 -- data1\n",
        "\n",
        "Train 2 -- data2\n",
        "\n",
        "Test 1 -- test_data1\n",
        "\n",
        "Test 2 -- test_data2\n",
        "\n",
        "Normalised data1 -- df1\n",
        "\n",
        "Normalised data2 -- df2\n",
        "\n",
        "Normalised test_data1 -- test_df1\n",
        "\n",
        "Normalised test_data2 -- test_df2\n",
        "\n",
        "\n",
        "\n",
        "\n",
        "\n",
        "\n",
        "\n"
      ]
    },
    {
      "cell_type": "markdown",
      "metadata": {
        "id": "L8DUZhBQsLLq",
        "colab_type": "text"
      },
      "source": [
        "#Normalization of features."
      ]
    },
    {
      "cell_type": "markdown",
      "metadata": {
        "id": "JgesrRYSdTd3",
        "colab_type": "text"
      },
      "source": [
        "We normalise our data set to bring each value present, between 0 and 1."
      ]
    },
    {
      "cell_type": "code",
      "metadata": {
        "id": "uh6MGCBgGc78",
        "colab_type": "code",
        "colab": {}
      },
      "source": [
        "scaler = MinMaxScaler()\n",
        "df1 = pd.DataFrame(scaler.fit_transform(data1), columns = data1.columns)\n",
        "test_df1 = pd.DataFrame(scaler.fit_transform(test_data1), columns = test_data1.columns)\n",
        "df2 = pd.DataFrame(scaler.fit_transform(data2), columns = data2.columns)\n",
        "test_df2 = pd.DataFrame(scaler.fit_transform(test_data2), columns = test_data2.columns)"
      ],
      "execution_count": 0,
      "outputs": []
    },
    {
      "cell_type": "markdown",
      "metadata": {
        "id": "PN-ZyL-nsfjM",
        "colab_type": "text"
      },
      "source": [
        "#Train and Test Data Set -- 1"
      ]
    },
    {
      "cell_type": "code",
      "metadata": {
        "id": "pPxvoTdMH69b",
        "colab_type": "code",
        "colab": {
          "base_uri": "https://localhost:8080/",
          "height": 422
        },
        "outputId": "8c9acb50-4c42-4a25-bdb9-e923cff3b9ad"
      },
      "source": [
        "data1 #Original data set"
      ],
      "execution_count": 4,
      "outputs": [
        {
          "output_type": "execute_result",
          "data": {
            "text/html": [
              "<div>\n",
              "<style scoped>\n",
              "    .dataframe tbody tr th:only-of-type {\n",
              "        vertical-align: middle;\n",
              "    }\n",
              "\n",
              "    .dataframe tbody tr th {\n",
              "        vertical-align: top;\n",
              "    }\n",
              "\n",
              "    .dataframe thead th {\n",
              "        text-align: right;\n",
              "    }\n",
              "</style>\n",
              "<table border=\"1\" class=\"dataframe\">\n",
              "  <thead>\n",
              "    <tr style=\"text-align: right;\">\n",
              "      <th></th>\n",
              "      <th>GP</th>\n",
              "      <th>F</th>\n",
              "      <th>age</th>\n",
              "      <th>R</th>\n",
              "      <th>GT3</th>\n",
              "      <th>A</th>\n",
              "      <th>Medu</th>\n",
              "      <th>Fedu</th>\n",
              "      <th>at_home</th>\n",
              "      <th>health</th>\n",
              "      <th>other</th>\n",
              "      <th>services</th>\n",
              "      <th>teacher</th>\n",
              "      <th>at_home.1</th>\n",
              "      <th>health.1</th>\n",
              "      <th>other.1</th>\n",
              "      <th>services.1</th>\n",
              "      <th>teacher.1</th>\n",
              "      <th>course</th>\n",
              "      <th>home</th>\n",
              "      <th>other.2</th>\n",
              "      <th>reputation</th>\n",
              "      <th>father</th>\n",
              "      <th>mother</th>\n",
              "      <th>other.3</th>\n",
              "      <th>traveltime</th>\n",
              "      <th>studytime</th>\n",
              "      <th>failures</th>\n",
              "      <th>schoolsup</th>\n",
              "      <th>famsup</th>\n",
              "      <th>paid</th>\n",
              "      <th>activities</th>\n",
              "      <th>nursery</th>\n",
              "      <th>higher</th>\n",
              "      <th>internet</th>\n",
              "      <th>romantic</th>\n",
              "      <th>famrel</th>\n",
              "      <th>freetime</th>\n",
              "      <th>goout</th>\n",
              "      <th>Dalc</th>\n",
              "      <th>Walc</th>\n",
              "      <th>health.2</th>\n",
              "      <th>absences</th>\n",
              "      <th>G1</th>\n",
              "      <th>G2</th>\n",
              "      <th>G3</th>\n",
              "    </tr>\n",
              "  </thead>\n",
              "  <tbody>\n",
              "    <tr>\n",
              "      <th>0</th>\n",
              "      <td>0</td>\n",
              "      <td>0</td>\n",
              "      <td>18</td>\n",
              "      <td>1</td>\n",
              "      <td>0</td>\n",
              "      <td>0</td>\n",
              "      <td>4</td>\n",
              "      <td>4</td>\n",
              "      <td>1</td>\n",
              "      <td>0</td>\n",
              "      <td>0</td>\n",
              "      <td>0</td>\n",
              "      <td>0</td>\n",
              "      <td>0</td>\n",
              "      <td>0</td>\n",
              "      <td>0</td>\n",
              "      <td>0</td>\n",
              "      <td>1</td>\n",
              "      <td>1</td>\n",
              "      <td>0</td>\n",
              "      <td>0</td>\n",
              "      <td>0</td>\n",
              "      <td>0</td>\n",
              "      <td>1</td>\n",
              "      <td>0</td>\n",
              "      <td>2</td>\n",
              "      <td>2</td>\n",
              "      <td>0</td>\n",
              "      <td>1</td>\n",
              "      <td>0</td>\n",
              "      <td>0</td>\n",
              "      <td>0</td>\n",
              "      <td>1</td>\n",
              "      <td>1</td>\n",
              "      <td>0</td>\n",
              "      <td>0</td>\n",
              "      <td>4</td>\n",
              "      <td>3</td>\n",
              "      <td>4</td>\n",
              "      <td>1</td>\n",
              "      <td>1</td>\n",
              "      <td>3</td>\n",
              "      <td>6</td>\n",
              "      <td>5</td>\n",
              "      <td>6</td>\n",
              "      <td>6</td>\n",
              "    </tr>\n",
              "    <tr>\n",
              "      <th>1</th>\n",
              "      <td>0</td>\n",
              "      <td>0</td>\n",
              "      <td>17</td>\n",
              "      <td>1</td>\n",
              "      <td>0</td>\n",
              "      <td>1</td>\n",
              "      <td>1</td>\n",
              "      <td>1</td>\n",
              "      <td>1</td>\n",
              "      <td>0</td>\n",
              "      <td>0</td>\n",
              "      <td>0</td>\n",
              "      <td>0</td>\n",
              "      <td>0</td>\n",
              "      <td>0</td>\n",
              "      <td>1</td>\n",
              "      <td>0</td>\n",
              "      <td>0</td>\n",
              "      <td>1</td>\n",
              "      <td>0</td>\n",
              "      <td>0</td>\n",
              "      <td>0</td>\n",
              "      <td>1</td>\n",
              "      <td>0</td>\n",
              "      <td>0</td>\n",
              "      <td>1</td>\n",
              "      <td>2</td>\n",
              "      <td>0</td>\n",
              "      <td>0</td>\n",
              "      <td>1</td>\n",
              "      <td>0</td>\n",
              "      <td>0</td>\n",
              "      <td>0</td>\n",
              "      <td>1</td>\n",
              "      <td>1</td>\n",
              "      <td>0</td>\n",
              "      <td>5</td>\n",
              "      <td>3</td>\n",
              "      <td>3</td>\n",
              "      <td>1</td>\n",
              "      <td>1</td>\n",
              "      <td>3</td>\n",
              "      <td>4</td>\n",
              "      <td>5</td>\n",
              "      <td>5</td>\n",
              "      <td>6</td>\n",
              "    </tr>\n",
              "    <tr>\n",
              "      <th>2</th>\n",
              "      <td>0</td>\n",
              "      <td>0</td>\n",
              "      <td>15</td>\n",
              "      <td>1</td>\n",
              "      <td>1</td>\n",
              "      <td>1</td>\n",
              "      <td>1</td>\n",
              "      <td>1</td>\n",
              "      <td>1</td>\n",
              "      <td>0</td>\n",
              "      <td>0</td>\n",
              "      <td>0</td>\n",
              "      <td>0</td>\n",
              "      <td>0</td>\n",
              "      <td>0</td>\n",
              "      <td>1</td>\n",
              "      <td>0</td>\n",
              "      <td>0</td>\n",
              "      <td>0</td>\n",
              "      <td>0</td>\n",
              "      <td>1</td>\n",
              "      <td>0</td>\n",
              "      <td>0</td>\n",
              "      <td>1</td>\n",
              "      <td>0</td>\n",
              "      <td>1</td>\n",
              "      <td>2</td>\n",
              "      <td>3</td>\n",
              "      <td>1</td>\n",
              "      <td>0</td>\n",
              "      <td>1</td>\n",
              "      <td>0</td>\n",
              "      <td>1</td>\n",
              "      <td>1</td>\n",
              "      <td>1</td>\n",
              "      <td>0</td>\n",
              "      <td>4</td>\n",
              "      <td>3</td>\n",
              "      <td>2</td>\n",
              "      <td>2</td>\n",
              "      <td>3</td>\n",
              "      <td>3</td>\n",
              "      <td>10</td>\n",
              "      <td>7</td>\n",
              "      <td>8</td>\n",
              "      <td>10</td>\n",
              "    </tr>\n",
              "    <tr>\n",
              "      <th>3</th>\n",
              "      <td>0</td>\n",
              "      <td>0</td>\n",
              "      <td>15</td>\n",
              "      <td>1</td>\n",
              "      <td>0</td>\n",
              "      <td>1</td>\n",
              "      <td>4</td>\n",
              "      <td>2</td>\n",
              "      <td>0</td>\n",
              "      <td>1</td>\n",
              "      <td>0</td>\n",
              "      <td>0</td>\n",
              "      <td>0</td>\n",
              "      <td>0</td>\n",
              "      <td>0</td>\n",
              "      <td>0</td>\n",
              "      <td>1</td>\n",
              "      <td>0</td>\n",
              "      <td>0</td>\n",
              "      <td>1</td>\n",
              "      <td>0</td>\n",
              "      <td>0</td>\n",
              "      <td>0</td>\n",
              "      <td>1</td>\n",
              "      <td>0</td>\n",
              "      <td>1</td>\n",
              "      <td>3</td>\n",
              "      <td>0</td>\n",
              "      <td>0</td>\n",
              "      <td>1</td>\n",
              "      <td>1</td>\n",
              "      <td>1</td>\n",
              "      <td>1</td>\n",
              "      <td>1</td>\n",
              "      <td>1</td>\n",
              "      <td>1</td>\n",
              "      <td>3</td>\n",
              "      <td>2</td>\n",
              "      <td>2</td>\n",
              "      <td>1</td>\n",
              "      <td>1</td>\n",
              "      <td>5</td>\n",
              "      <td>2</td>\n",
              "      <td>15</td>\n",
              "      <td>14</td>\n",
              "      <td>15</td>\n",
              "    </tr>\n",
              "    <tr>\n",
              "      <th>4</th>\n",
              "      <td>0</td>\n",
              "      <td>0</td>\n",
              "      <td>16</td>\n",
              "      <td>1</td>\n",
              "      <td>0</td>\n",
              "      <td>1</td>\n",
              "      <td>3</td>\n",
              "      <td>3</td>\n",
              "      <td>0</td>\n",
              "      <td>0</td>\n",
              "      <td>1</td>\n",
              "      <td>0</td>\n",
              "      <td>0</td>\n",
              "      <td>0</td>\n",
              "      <td>0</td>\n",
              "      <td>1</td>\n",
              "      <td>0</td>\n",
              "      <td>0</td>\n",
              "      <td>0</td>\n",
              "      <td>1</td>\n",
              "      <td>0</td>\n",
              "      <td>0</td>\n",
              "      <td>1</td>\n",
              "      <td>0</td>\n",
              "      <td>0</td>\n",
              "      <td>1</td>\n",
              "      <td>2</td>\n",
              "      <td>0</td>\n",
              "      <td>0</td>\n",
              "      <td>1</td>\n",
              "      <td>1</td>\n",
              "      <td>0</td>\n",
              "      <td>1</td>\n",
              "      <td>1</td>\n",
              "      <td>0</td>\n",
              "      <td>0</td>\n",
              "      <td>4</td>\n",
              "      <td>3</td>\n",
              "      <td>2</td>\n",
              "      <td>1</td>\n",
              "      <td>2</td>\n",
              "      <td>5</td>\n",
              "      <td>4</td>\n",
              "      <td>6</td>\n",
              "      <td>10</td>\n",
              "      <td>10</td>\n",
              "    </tr>\n",
              "    <tr>\n",
              "      <th>...</th>\n",
              "      <td>...</td>\n",
              "      <td>...</td>\n",
              "      <td>...</td>\n",
              "      <td>...</td>\n",
              "      <td>...</td>\n",
              "      <td>...</td>\n",
              "      <td>...</td>\n",
              "      <td>...</td>\n",
              "      <td>...</td>\n",
              "      <td>...</td>\n",
              "      <td>...</td>\n",
              "      <td>...</td>\n",
              "      <td>...</td>\n",
              "      <td>...</td>\n",
              "      <td>...</td>\n",
              "      <td>...</td>\n",
              "      <td>...</td>\n",
              "      <td>...</td>\n",
              "      <td>...</td>\n",
              "      <td>...</td>\n",
              "      <td>...</td>\n",
              "      <td>...</td>\n",
              "      <td>...</td>\n",
              "      <td>...</td>\n",
              "      <td>...</td>\n",
              "      <td>...</td>\n",
              "      <td>...</td>\n",
              "      <td>...</td>\n",
              "      <td>...</td>\n",
              "      <td>...</td>\n",
              "      <td>...</td>\n",
              "      <td>...</td>\n",
              "      <td>...</td>\n",
              "      <td>...</td>\n",
              "      <td>...</td>\n",
              "      <td>...</td>\n",
              "      <td>...</td>\n",
              "      <td>...</td>\n",
              "      <td>...</td>\n",
              "      <td>...</td>\n",
              "      <td>...</td>\n",
              "      <td>...</td>\n",
              "      <td>...</td>\n",
              "      <td>...</td>\n",
              "      <td>...</td>\n",
              "      <td>...</td>\n",
              "    </tr>\n",
              "    <tr>\n",
              "      <th>390</th>\n",
              "      <td>1</td>\n",
              "      <td>1</td>\n",
              "      <td>20</td>\n",
              "      <td>1</td>\n",
              "      <td>1</td>\n",
              "      <td>0</td>\n",
              "      <td>2</td>\n",
              "      <td>2</td>\n",
              "      <td>0</td>\n",
              "      <td>0</td>\n",
              "      <td>0</td>\n",
              "      <td>1</td>\n",
              "      <td>0</td>\n",
              "      <td>0</td>\n",
              "      <td>0</td>\n",
              "      <td>0</td>\n",
              "      <td>1</td>\n",
              "      <td>0</td>\n",
              "      <td>1</td>\n",
              "      <td>0</td>\n",
              "      <td>0</td>\n",
              "      <td>0</td>\n",
              "      <td>0</td>\n",
              "      <td>0</td>\n",
              "      <td>1</td>\n",
              "      <td>1</td>\n",
              "      <td>2</td>\n",
              "      <td>2</td>\n",
              "      <td>0</td>\n",
              "      <td>1</td>\n",
              "      <td>1</td>\n",
              "      <td>0</td>\n",
              "      <td>1</td>\n",
              "      <td>1</td>\n",
              "      <td>0</td>\n",
              "      <td>0</td>\n",
              "      <td>5</td>\n",
              "      <td>5</td>\n",
              "      <td>4</td>\n",
              "      <td>4</td>\n",
              "      <td>5</td>\n",
              "      <td>4</td>\n",
              "      <td>11</td>\n",
              "      <td>9</td>\n",
              "      <td>9</td>\n",
              "      <td>9</td>\n",
              "    </tr>\n",
              "    <tr>\n",
              "      <th>391</th>\n",
              "      <td>1</td>\n",
              "      <td>1</td>\n",
              "      <td>17</td>\n",
              "      <td>1</td>\n",
              "      <td>1</td>\n",
              "      <td>1</td>\n",
              "      <td>3</td>\n",
              "      <td>1</td>\n",
              "      <td>0</td>\n",
              "      <td>0</td>\n",
              "      <td>0</td>\n",
              "      <td>1</td>\n",
              "      <td>0</td>\n",
              "      <td>0</td>\n",
              "      <td>0</td>\n",
              "      <td>0</td>\n",
              "      <td>1</td>\n",
              "      <td>0</td>\n",
              "      <td>1</td>\n",
              "      <td>0</td>\n",
              "      <td>0</td>\n",
              "      <td>0</td>\n",
              "      <td>0</td>\n",
              "      <td>1</td>\n",
              "      <td>0</td>\n",
              "      <td>2</td>\n",
              "      <td>1</td>\n",
              "      <td>0</td>\n",
              "      <td>0</td>\n",
              "      <td>0</td>\n",
              "      <td>0</td>\n",
              "      <td>0</td>\n",
              "      <td>0</td>\n",
              "      <td>1</td>\n",
              "      <td>1</td>\n",
              "      <td>0</td>\n",
              "      <td>2</td>\n",
              "      <td>4</td>\n",
              "      <td>5</td>\n",
              "      <td>3</td>\n",
              "      <td>4</td>\n",
              "      <td>2</td>\n",
              "      <td>3</td>\n",
              "      <td>14</td>\n",
              "      <td>16</td>\n",
              "      <td>16</td>\n",
              "    </tr>\n",
              "    <tr>\n",
              "      <th>392</th>\n",
              "      <td>1</td>\n",
              "      <td>1</td>\n",
              "      <td>21</td>\n",
              "      <td>0</td>\n",
              "      <td>0</td>\n",
              "      <td>1</td>\n",
              "      <td>1</td>\n",
              "      <td>1</td>\n",
              "      <td>0</td>\n",
              "      <td>0</td>\n",
              "      <td>1</td>\n",
              "      <td>0</td>\n",
              "      <td>0</td>\n",
              "      <td>0</td>\n",
              "      <td>0</td>\n",
              "      <td>1</td>\n",
              "      <td>0</td>\n",
              "      <td>0</td>\n",
              "      <td>1</td>\n",
              "      <td>0</td>\n",
              "      <td>0</td>\n",
              "      <td>0</td>\n",
              "      <td>0</td>\n",
              "      <td>0</td>\n",
              "      <td>1</td>\n",
              "      <td>1</td>\n",
              "      <td>1</td>\n",
              "      <td>3</td>\n",
              "      <td>0</td>\n",
              "      <td>0</td>\n",
              "      <td>0</td>\n",
              "      <td>0</td>\n",
              "      <td>0</td>\n",
              "      <td>1</td>\n",
              "      <td>0</td>\n",
              "      <td>0</td>\n",
              "      <td>5</td>\n",
              "      <td>5</td>\n",
              "      <td>3</td>\n",
              "      <td>3</td>\n",
              "      <td>3</td>\n",
              "      <td>3</td>\n",
              "      <td>3</td>\n",
              "      <td>10</td>\n",
              "      <td>8</td>\n",
              "      <td>7</td>\n",
              "    </tr>\n",
              "    <tr>\n",
              "      <th>393</th>\n",
              "      <td>1</td>\n",
              "      <td>1</td>\n",
              "      <td>18</td>\n",
              "      <td>0</td>\n",
              "      <td>1</td>\n",
              "      <td>1</td>\n",
              "      <td>3</td>\n",
              "      <td>2</td>\n",
              "      <td>0</td>\n",
              "      <td>0</td>\n",
              "      <td>0</td>\n",
              "      <td>1</td>\n",
              "      <td>0</td>\n",
              "      <td>0</td>\n",
              "      <td>0</td>\n",
              "      <td>1</td>\n",
              "      <td>0</td>\n",
              "      <td>0</td>\n",
              "      <td>1</td>\n",
              "      <td>0</td>\n",
              "      <td>0</td>\n",
              "      <td>0</td>\n",
              "      <td>0</td>\n",
              "      <td>1</td>\n",
              "      <td>0</td>\n",
              "      <td>3</td>\n",
              "      <td>1</td>\n",
              "      <td>0</td>\n",
              "      <td>0</td>\n",
              "      <td>0</td>\n",
              "      <td>0</td>\n",
              "      <td>0</td>\n",
              "      <td>0</td>\n",
              "      <td>1</td>\n",
              "      <td>1</td>\n",
              "      <td>0</td>\n",
              "      <td>4</td>\n",
              "      <td>4</td>\n",
              "      <td>1</td>\n",
              "      <td>3</td>\n",
              "      <td>4</td>\n",
              "      <td>5</td>\n",
              "      <td>0</td>\n",
              "      <td>11</td>\n",
              "      <td>12</td>\n",
              "      <td>10</td>\n",
              "    </tr>\n",
              "    <tr>\n",
              "      <th>394</th>\n",
              "      <td>1</td>\n",
              "      <td>1</td>\n",
              "      <td>19</td>\n",
              "      <td>1</td>\n",
              "      <td>1</td>\n",
              "      <td>1</td>\n",
              "      <td>1</td>\n",
              "      <td>1</td>\n",
              "      <td>0</td>\n",
              "      <td>0</td>\n",
              "      <td>1</td>\n",
              "      <td>0</td>\n",
              "      <td>0</td>\n",
              "      <td>1</td>\n",
              "      <td>0</td>\n",
              "      <td>0</td>\n",
              "      <td>0</td>\n",
              "      <td>0</td>\n",
              "      <td>1</td>\n",
              "      <td>0</td>\n",
              "      <td>0</td>\n",
              "      <td>0</td>\n",
              "      <td>1</td>\n",
              "      <td>0</td>\n",
              "      <td>0</td>\n",
              "      <td>1</td>\n",
              "      <td>1</td>\n",
              "      <td>0</td>\n",
              "      <td>0</td>\n",
              "      <td>0</td>\n",
              "      <td>0</td>\n",
              "      <td>0</td>\n",
              "      <td>1</td>\n",
              "      <td>1</td>\n",
              "      <td>1</td>\n",
              "      <td>0</td>\n",
              "      <td>3</td>\n",
              "      <td>2</td>\n",
              "      <td>3</td>\n",
              "      <td>3</td>\n",
              "      <td>3</td>\n",
              "      <td>5</td>\n",
              "      <td>5</td>\n",
              "      <td>8</td>\n",
              "      <td>9</td>\n",
              "      <td>9</td>\n",
              "    </tr>\n",
              "  </tbody>\n",
              "</table>\n",
              "<p>395 rows × 46 columns</p>\n",
              "</div>"
            ],
            "text/plain": [
              "     GP  F  age  R  GT3  A  Medu  ...  Dalc  Walc  health.2  absences  G1  G2  G3\n",
              "0     0  0   18  1    0  0     4  ...     1     1         3         6   5   6   6\n",
              "1     0  0   17  1    0  1     1  ...     1     1         3         4   5   5   6\n",
              "2     0  0   15  1    1  1     1  ...     2     3         3        10   7   8  10\n",
              "3     0  0   15  1    0  1     4  ...     1     1         5         2  15  14  15\n",
              "4     0  0   16  1    0  1     3  ...     1     2         5         4   6  10  10\n",
              "..   .. ..  ... ..  ... ..   ...  ...   ...   ...       ...       ...  ..  ..  ..\n",
              "390   1  1   20  1    1  0     2  ...     4     5         4        11   9   9   9\n",
              "391   1  1   17  1    1  1     3  ...     3     4         2         3  14  16  16\n",
              "392   1  1   21  0    0  1     1  ...     3     3         3         3  10   8   7\n",
              "393   1  1   18  0    1  1     3  ...     3     4         5         0  11  12  10\n",
              "394   1  1   19  1    1  1     1  ...     3     3         5         5   8   9   9\n",
              "\n",
              "[395 rows x 46 columns]"
            ]
          },
          "metadata": {
            "tags": []
          },
          "execution_count": 4
        }
      ]
    },
    {
      "cell_type": "markdown",
      "metadata": {
        "id": "YF-EViRor_ov",
        "colab_type": "text"
      },
      "source": [
        "##Correlation of Target with all other features."
      ]
    },
    {
      "cell_type": "markdown",
      "metadata": {
        "id": "jkQ7SBn7dCcG",
        "colab_type": "text"
      },
      "source": [
        "We now use \"Pearson\" correlation to find out the linear relationship between each feature and the target."
      ]
    },
    {
      "cell_type": "code",
      "metadata": {
        "id": "ECmO4oPzGc7x",
        "colab_type": "code",
        "outputId": "95cda59d-869d-481b-85b2-0bc421c474a0",
        "colab": {
          "base_uri": "https://localhost:8080/",
          "height": 806
        }
      },
      "source": [
        "abs(data1.corr('pearson')['G3']).sort_values(ascending = False)"
      ],
      "execution_count": 5,
      "outputs": [
        {
          "output_type": "execute_result",
          "data": {
            "text/plain": [
              "G3            1.000000\n",
              "G2            0.904868\n",
              "G1            0.801468\n",
              "failures      0.360415\n",
              "Medu          0.217147\n",
              "higher        0.182465\n",
              "age           0.161579\n",
              "Fedu          0.152457\n",
              "goout         0.132791\n",
              "romantic      0.129970\n",
              "traveltime    0.117142\n",
              "health        0.116158\n",
              "at_home       0.115634\n",
              "R             0.105756\n",
              "F             0.103456\n",
              "paid          0.101996\n",
              "course        0.098950\n",
              "internet      0.098483\n",
              "studytime     0.097820\n",
              "other         0.096477\n",
              "reputation    0.095692\n",
              "teacher.1     0.095374\n",
              "other.3       0.087774\n",
              "schoolsup     0.082788\n",
              "GT3           0.081407\n",
              "services      0.078429\n",
              "health.2      0.061335\n",
              "A             0.058009\n",
              "teacher       0.057712\n",
              "health.1      0.057111\n",
              "Dalc          0.054660\n",
              "other.1       0.053483\n",
              "other.2       0.052008\n",
              "Walc          0.051939\n",
              "nursery       0.051568\n",
              "famrel        0.051363\n",
              "GP            0.045017\n",
              "famsup        0.039157\n",
              "absences      0.034247\n",
              "father        0.032493\n",
              "mother        0.022338\n",
              "home          0.021359\n",
              "services.1    0.016108\n",
              "activities    0.016100\n",
              "at_home.1     0.013385\n",
              "freetime      0.011307\n",
              "Name: G3, dtype: float64"
            ]
          },
          "metadata": {
            "tags": []
          },
          "execution_count": 5
        }
      ]
    },
    {
      "cell_type": "code",
      "metadata": {
        "id": "H9ineiVzazJD",
        "colab_type": "code",
        "outputId": "633430a8-9a75-43e6-915b-2f8b988d0df8",
        "colab": {
          "base_uri": "https://localhost:8080/",
          "height": 422
        }
      },
      "source": [
        "df1 #normalised"
      ],
      "execution_count": 6,
      "outputs": [
        {
          "output_type": "execute_result",
          "data": {
            "text/html": [
              "<div>\n",
              "<style scoped>\n",
              "    .dataframe tbody tr th:only-of-type {\n",
              "        vertical-align: middle;\n",
              "    }\n",
              "\n",
              "    .dataframe tbody tr th {\n",
              "        vertical-align: top;\n",
              "    }\n",
              "\n",
              "    .dataframe thead th {\n",
              "        text-align: right;\n",
              "    }\n",
              "</style>\n",
              "<table border=\"1\" class=\"dataframe\">\n",
              "  <thead>\n",
              "    <tr style=\"text-align: right;\">\n",
              "      <th></th>\n",
              "      <th>GP</th>\n",
              "      <th>F</th>\n",
              "      <th>age</th>\n",
              "      <th>R</th>\n",
              "      <th>GT3</th>\n",
              "      <th>A</th>\n",
              "      <th>Medu</th>\n",
              "      <th>Fedu</th>\n",
              "      <th>at_home</th>\n",
              "      <th>health</th>\n",
              "      <th>other</th>\n",
              "      <th>services</th>\n",
              "      <th>teacher</th>\n",
              "      <th>at_home.1</th>\n",
              "      <th>health.1</th>\n",
              "      <th>other.1</th>\n",
              "      <th>services.1</th>\n",
              "      <th>teacher.1</th>\n",
              "      <th>course</th>\n",
              "      <th>home</th>\n",
              "      <th>other.2</th>\n",
              "      <th>reputation</th>\n",
              "      <th>father</th>\n",
              "      <th>mother</th>\n",
              "      <th>other.3</th>\n",
              "      <th>traveltime</th>\n",
              "      <th>studytime</th>\n",
              "      <th>failures</th>\n",
              "      <th>schoolsup</th>\n",
              "      <th>famsup</th>\n",
              "      <th>paid</th>\n",
              "      <th>activities</th>\n",
              "      <th>nursery</th>\n",
              "      <th>higher</th>\n",
              "      <th>internet</th>\n",
              "      <th>romantic</th>\n",
              "      <th>famrel</th>\n",
              "      <th>freetime</th>\n",
              "      <th>goout</th>\n",
              "      <th>Dalc</th>\n",
              "      <th>Walc</th>\n",
              "      <th>health.2</th>\n",
              "      <th>absences</th>\n",
              "      <th>G1</th>\n",
              "      <th>G2</th>\n",
              "      <th>G3</th>\n",
              "    </tr>\n",
              "  </thead>\n",
              "  <tbody>\n",
              "    <tr>\n",
              "      <th>0</th>\n",
              "      <td>0.0</td>\n",
              "      <td>0.0</td>\n",
              "      <td>0.428571</td>\n",
              "      <td>1.0</td>\n",
              "      <td>0.0</td>\n",
              "      <td>0.0</td>\n",
              "      <td>1.00</td>\n",
              "      <td>1.00</td>\n",
              "      <td>1.0</td>\n",
              "      <td>0.0</td>\n",
              "      <td>0.0</td>\n",
              "      <td>0.0</td>\n",
              "      <td>0.0</td>\n",
              "      <td>0.0</td>\n",
              "      <td>0.0</td>\n",
              "      <td>0.0</td>\n",
              "      <td>0.0</td>\n",
              "      <td>1.0</td>\n",
              "      <td>1.0</td>\n",
              "      <td>0.0</td>\n",
              "      <td>0.0</td>\n",
              "      <td>0.0</td>\n",
              "      <td>0.0</td>\n",
              "      <td>1.0</td>\n",
              "      <td>0.0</td>\n",
              "      <td>0.333333</td>\n",
              "      <td>0.333333</td>\n",
              "      <td>0.000000</td>\n",
              "      <td>1.0</td>\n",
              "      <td>0.0</td>\n",
              "      <td>0.0</td>\n",
              "      <td>0.0</td>\n",
              "      <td>1.0</td>\n",
              "      <td>1.0</td>\n",
              "      <td>0.0</td>\n",
              "      <td>0.0</td>\n",
              "      <td>0.75</td>\n",
              "      <td>0.50</td>\n",
              "      <td>0.75</td>\n",
              "      <td>0.00</td>\n",
              "      <td>0.00</td>\n",
              "      <td>0.50</td>\n",
              "      <td>0.080000</td>\n",
              "      <td>0.1250</td>\n",
              "      <td>0.315789</td>\n",
              "      <td>0.30</td>\n",
              "    </tr>\n",
              "    <tr>\n",
              "      <th>1</th>\n",
              "      <td>0.0</td>\n",
              "      <td>0.0</td>\n",
              "      <td>0.285714</td>\n",
              "      <td>1.0</td>\n",
              "      <td>0.0</td>\n",
              "      <td>1.0</td>\n",
              "      <td>0.25</td>\n",
              "      <td>0.25</td>\n",
              "      <td>1.0</td>\n",
              "      <td>0.0</td>\n",
              "      <td>0.0</td>\n",
              "      <td>0.0</td>\n",
              "      <td>0.0</td>\n",
              "      <td>0.0</td>\n",
              "      <td>0.0</td>\n",
              "      <td>1.0</td>\n",
              "      <td>0.0</td>\n",
              "      <td>0.0</td>\n",
              "      <td>1.0</td>\n",
              "      <td>0.0</td>\n",
              "      <td>0.0</td>\n",
              "      <td>0.0</td>\n",
              "      <td>1.0</td>\n",
              "      <td>0.0</td>\n",
              "      <td>0.0</td>\n",
              "      <td>0.000000</td>\n",
              "      <td>0.333333</td>\n",
              "      <td>0.000000</td>\n",
              "      <td>0.0</td>\n",
              "      <td>1.0</td>\n",
              "      <td>0.0</td>\n",
              "      <td>0.0</td>\n",
              "      <td>0.0</td>\n",
              "      <td>1.0</td>\n",
              "      <td>1.0</td>\n",
              "      <td>0.0</td>\n",
              "      <td>1.00</td>\n",
              "      <td>0.50</td>\n",
              "      <td>0.50</td>\n",
              "      <td>0.00</td>\n",
              "      <td>0.00</td>\n",
              "      <td>0.50</td>\n",
              "      <td>0.053333</td>\n",
              "      <td>0.1250</td>\n",
              "      <td>0.263158</td>\n",
              "      <td>0.30</td>\n",
              "    </tr>\n",
              "    <tr>\n",
              "      <th>2</th>\n",
              "      <td>0.0</td>\n",
              "      <td>0.0</td>\n",
              "      <td>0.000000</td>\n",
              "      <td>1.0</td>\n",
              "      <td>1.0</td>\n",
              "      <td>1.0</td>\n",
              "      <td>0.25</td>\n",
              "      <td>0.25</td>\n",
              "      <td>1.0</td>\n",
              "      <td>0.0</td>\n",
              "      <td>0.0</td>\n",
              "      <td>0.0</td>\n",
              "      <td>0.0</td>\n",
              "      <td>0.0</td>\n",
              "      <td>0.0</td>\n",
              "      <td>1.0</td>\n",
              "      <td>0.0</td>\n",
              "      <td>0.0</td>\n",
              "      <td>0.0</td>\n",
              "      <td>0.0</td>\n",
              "      <td>1.0</td>\n",
              "      <td>0.0</td>\n",
              "      <td>0.0</td>\n",
              "      <td>1.0</td>\n",
              "      <td>0.0</td>\n",
              "      <td>0.000000</td>\n",
              "      <td>0.333333</td>\n",
              "      <td>1.000000</td>\n",
              "      <td>1.0</td>\n",
              "      <td>0.0</td>\n",
              "      <td>1.0</td>\n",
              "      <td>0.0</td>\n",
              "      <td>1.0</td>\n",
              "      <td>1.0</td>\n",
              "      <td>1.0</td>\n",
              "      <td>0.0</td>\n",
              "      <td>0.75</td>\n",
              "      <td>0.50</td>\n",
              "      <td>0.25</td>\n",
              "      <td>0.25</td>\n",
              "      <td>0.50</td>\n",
              "      <td>0.50</td>\n",
              "      <td>0.133333</td>\n",
              "      <td>0.2500</td>\n",
              "      <td>0.421053</td>\n",
              "      <td>0.50</td>\n",
              "    </tr>\n",
              "    <tr>\n",
              "      <th>3</th>\n",
              "      <td>0.0</td>\n",
              "      <td>0.0</td>\n",
              "      <td>0.000000</td>\n",
              "      <td>1.0</td>\n",
              "      <td>0.0</td>\n",
              "      <td>1.0</td>\n",
              "      <td>1.00</td>\n",
              "      <td>0.50</td>\n",
              "      <td>0.0</td>\n",
              "      <td>1.0</td>\n",
              "      <td>0.0</td>\n",
              "      <td>0.0</td>\n",
              "      <td>0.0</td>\n",
              "      <td>0.0</td>\n",
              "      <td>0.0</td>\n",
              "      <td>0.0</td>\n",
              "      <td>1.0</td>\n",
              "      <td>0.0</td>\n",
              "      <td>0.0</td>\n",
              "      <td>1.0</td>\n",
              "      <td>0.0</td>\n",
              "      <td>0.0</td>\n",
              "      <td>0.0</td>\n",
              "      <td>1.0</td>\n",
              "      <td>0.0</td>\n",
              "      <td>0.000000</td>\n",
              "      <td>0.666667</td>\n",
              "      <td>0.000000</td>\n",
              "      <td>0.0</td>\n",
              "      <td>1.0</td>\n",
              "      <td>1.0</td>\n",
              "      <td>1.0</td>\n",
              "      <td>1.0</td>\n",
              "      <td>1.0</td>\n",
              "      <td>1.0</td>\n",
              "      <td>1.0</td>\n",
              "      <td>0.50</td>\n",
              "      <td>0.25</td>\n",
              "      <td>0.25</td>\n",
              "      <td>0.00</td>\n",
              "      <td>0.00</td>\n",
              "      <td>1.00</td>\n",
              "      <td>0.026667</td>\n",
              "      <td>0.7500</td>\n",
              "      <td>0.736842</td>\n",
              "      <td>0.75</td>\n",
              "    </tr>\n",
              "    <tr>\n",
              "      <th>4</th>\n",
              "      <td>0.0</td>\n",
              "      <td>0.0</td>\n",
              "      <td>0.142857</td>\n",
              "      <td>1.0</td>\n",
              "      <td>0.0</td>\n",
              "      <td>1.0</td>\n",
              "      <td>0.75</td>\n",
              "      <td>0.75</td>\n",
              "      <td>0.0</td>\n",
              "      <td>0.0</td>\n",
              "      <td>1.0</td>\n",
              "      <td>0.0</td>\n",
              "      <td>0.0</td>\n",
              "      <td>0.0</td>\n",
              "      <td>0.0</td>\n",
              "      <td>1.0</td>\n",
              "      <td>0.0</td>\n",
              "      <td>0.0</td>\n",
              "      <td>0.0</td>\n",
              "      <td>1.0</td>\n",
              "      <td>0.0</td>\n",
              "      <td>0.0</td>\n",
              "      <td>1.0</td>\n",
              "      <td>0.0</td>\n",
              "      <td>0.0</td>\n",
              "      <td>0.000000</td>\n",
              "      <td>0.333333</td>\n",
              "      <td>0.000000</td>\n",
              "      <td>0.0</td>\n",
              "      <td>1.0</td>\n",
              "      <td>1.0</td>\n",
              "      <td>0.0</td>\n",
              "      <td>1.0</td>\n",
              "      <td>1.0</td>\n",
              "      <td>0.0</td>\n",
              "      <td>0.0</td>\n",
              "      <td>0.75</td>\n",
              "      <td>0.50</td>\n",
              "      <td>0.25</td>\n",
              "      <td>0.00</td>\n",
              "      <td>0.25</td>\n",
              "      <td>1.00</td>\n",
              "      <td>0.053333</td>\n",
              "      <td>0.1875</td>\n",
              "      <td>0.526316</td>\n",
              "      <td>0.50</td>\n",
              "    </tr>\n",
              "    <tr>\n",
              "      <th>...</th>\n",
              "      <td>...</td>\n",
              "      <td>...</td>\n",
              "      <td>...</td>\n",
              "      <td>...</td>\n",
              "      <td>...</td>\n",
              "      <td>...</td>\n",
              "      <td>...</td>\n",
              "      <td>...</td>\n",
              "      <td>...</td>\n",
              "      <td>...</td>\n",
              "      <td>...</td>\n",
              "      <td>...</td>\n",
              "      <td>...</td>\n",
              "      <td>...</td>\n",
              "      <td>...</td>\n",
              "      <td>...</td>\n",
              "      <td>...</td>\n",
              "      <td>...</td>\n",
              "      <td>...</td>\n",
              "      <td>...</td>\n",
              "      <td>...</td>\n",
              "      <td>...</td>\n",
              "      <td>...</td>\n",
              "      <td>...</td>\n",
              "      <td>...</td>\n",
              "      <td>...</td>\n",
              "      <td>...</td>\n",
              "      <td>...</td>\n",
              "      <td>...</td>\n",
              "      <td>...</td>\n",
              "      <td>...</td>\n",
              "      <td>...</td>\n",
              "      <td>...</td>\n",
              "      <td>...</td>\n",
              "      <td>...</td>\n",
              "      <td>...</td>\n",
              "      <td>...</td>\n",
              "      <td>...</td>\n",
              "      <td>...</td>\n",
              "      <td>...</td>\n",
              "      <td>...</td>\n",
              "      <td>...</td>\n",
              "      <td>...</td>\n",
              "      <td>...</td>\n",
              "      <td>...</td>\n",
              "      <td>...</td>\n",
              "    </tr>\n",
              "    <tr>\n",
              "      <th>390</th>\n",
              "      <td>1.0</td>\n",
              "      <td>1.0</td>\n",
              "      <td>0.714286</td>\n",
              "      <td>1.0</td>\n",
              "      <td>1.0</td>\n",
              "      <td>0.0</td>\n",
              "      <td>0.50</td>\n",
              "      <td>0.50</td>\n",
              "      <td>0.0</td>\n",
              "      <td>0.0</td>\n",
              "      <td>0.0</td>\n",
              "      <td>1.0</td>\n",
              "      <td>0.0</td>\n",
              "      <td>0.0</td>\n",
              "      <td>0.0</td>\n",
              "      <td>0.0</td>\n",
              "      <td>1.0</td>\n",
              "      <td>0.0</td>\n",
              "      <td>1.0</td>\n",
              "      <td>0.0</td>\n",
              "      <td>0.0</td>\n",
              "      <td>0.0</td>\n",
              "      <td>0.0</td>\n",
              "      <td>0.0</td>\n",
              "      <td>1.0</td>\n",
              "      <td>0.000000</td>\n",
              "      <td>0.333333</td>\n",
              "      <td>0.666667</td>\n",
              "      <td>0.0</td>\n",
              "      <td>1.0</td>\n",
              "      <td>1.0</td>\n",
              "      <td>0.0</td>\n",
              "      <td>1.0</td>\n",
              "      <td>1.0</td>\n",
              "      <td>0.0</td>\n",
              "      <td>0.0</td>\n",
              "      <td>1.00</td>\n",
              "      <td>1.00</td>\n",
              "      <td>0.75</td>\n",
              "      <td>0.75</td>\n",
              "      <td>1.00</td>\n",
              "      <td>0.75</td>\n",
              "      <td>0.146667</td>\n",
              "      <td>0.3750</td>\n",
              "      <td>0.473684</td>\n",
              "      <td>0.45</td>\n",
              "    </tr>\n",
              "    <tr>\n",
              "      <th>391</th>\n",
              "      <td>1.0</td>\n",
              "      <td>1.0</td>\n",
              "      <td>0.285714</td>\n",
              "      <td>1.0</td>\n",
              "      <td>1.0</td>\n",
              "      <td>1.0</td>\n",
              "      <td>0.75</td>\n",
              "      <td>0.25</td>\n",
              "      <td>0.0</td>\n",
              "      <td>0.0</td>\n",
              "      <td>0.0</td>\n",
              "      <td>1.0</td>\n",
              "      <td>0.0</td>\n",
              "      <td>0.0</td>\n",
              "      <td>0.0</td>\n",
              "      <td>0.0</td>\n",
              "      <td>1.0</td>\n",
              "      <td>0.0</td>\n",
              "      <td>1.0</td>\n",
              "      <td>0.0</td>\n",
              "      <td>0.0</td>\n",
              "      <td>0.0</td>\n",
              "      <td>0.0</td>\n",
              "      <td>1.0</td>\n",
              "      <td>0.0</td>\n",
              "      <td>0.333333</td>\n",
              "      <td>0.000000</td>\n",
              "      <td>0.000000</td>\n",
              "      <td>0.0</td>\n",
              "      <td>0.0</td>\n",
              "      <td>0.0</td>\n",
              "      <td>0.0</td>\n",
              "      <td>0.0</td>\n",
              "      <td>1.0</td>\n",
              "      <td>1.0</td>\n",
              "      <td>0.0</td>\n",
              "      <td>0.25</td>\n",
              "      <td>0.75</td>\n",
              "      <td>1.00</td>\n",
              "      <td>0.50</td>\n",
              "      <td>0.75</td>\n",
              "      <td>0.25</td>\n",
              "      <td>0.040000</td>\n",
              "      <td>0.6875</td>\n",
              "      <td>0.842105</td>\n",
              "      <td>0.80</td>\n",
              "    </tr>\n",
              "    <tr>\n",
              "      <th>392</th>\n",
              "      <td>1.0</td>\n",
              "      <td>1.0</td>\n",
              "      <td>0.857143</td>\n",
              "      <td>0.0</td>\n",
              "      <td>0.0</td>\n",
              "      <td>1.0</td>\n",
              "      <td>0.25</td>\n",
              "      <td>0.25</td>\n",
              "      <td>0.0</td>\n",
              "      <td>0.0</td>\n",
              "      <td>1.0</td>\n",
              "      <td>0.0</td>\n",
              "      <td>0.0</td>\n",
              "      <td>0.0</td>\n",
              "      <td>0.0</td>\n",
              "      <td>1.0</td>\n",
              "      <td>0.0</td>\n",
              "      <td>0.0</td>\n",
              "      <td>1.0</td>\n",
              "      <td>0.0</td>\n",
              "      <td>0.0</td>\n",
              "      <td>0.0</td>\n",
              "      <td>0.0</td>\n",
              "      <td>0.0</td>\n",
              "      <td>1.0</td>\n",
              "      <td>0.000000</td>\n",
              "      <td>0.000000</td>\n",
              "      <td>1.000000</td>\n",
              "      <td>0.0</td>\n",
              "      <td>0.0</td>\n",
              "      <td>0.0</td>\n",
              "      <td>0.0</td>\n",
              "      <td>0.0</td>\n",
              "      <td>1.0</td>\n",
              "      <td>0.0</td>\n",
              "      <td>0.0</td>\n",
              "      <td>1.00</td>\n",
              "      <td>1.00</td>\n",
              "      <td>0.50</td>\n",
              "      <td>0.50</td>\n",
              "      <td>0.50</td>\n",
              "      <td>0.50</td>\n",
              "      <td>0.040000</td>\n",
              "      <td>0.4375</td>\n",
              "      <td>0.421053</td>\n",
              "      <td>0.35</td>\n",
              "    </tr>\n",
              "    <tr>\n",
              "      <th>393</th>\n",
              "      <td>1.0</td>\n",
              "      <td>1.0</td>\n",
              "      <td>0.428571</td>\n",
              "      <td>0.0</td>\n",
              "      <td>1.0</td>\n",
              "      <td>1.0</td>\n",
              "      <td>0.75</td>\n",
              "      <td>0.50</td>\n",
              "      <td>0.0</td>\n",
              "      <td>0.0</td>\n",
              "      <td>0.0</td>\n",
              "      <td>1.0</td>\n",
              "      <td>0.0</td>\n",
              "      <td>0.0</td>\n",
              "      <td>0.0</td>\n",
              "      <td>1.0</td>\n",
              "      <td>0.0</td>\n",
              "      <td>0.0</td>\n",
              "      <td>1.0</td>\n",
              "      <td>0.0</td>\n",
              "      <td>0.0</td>\n",
              "      <td>0.0</td>\n",
              "      <td>0.0</td>\n",
              "      <td>1.0</td>\n",
              "      <td>0.0</td>\n",
              "      <td>0.666667</td>\n",
              "      <td>0.000000</td>\n",
              "      <td>0.000000</td>\n",
              "      <td>0.0</td>\n",
              "      <td>0.0</td>\n",
              "      <td>0.0</td>\n",
              "      <td>0.0</td>\n",
              "      <td>0.0</td>\n",
              "      <td>1.0</td>\n",
              "      <td>1.0</td>\n",
              "      <td>0.0</td>\n",
              "      <td>0.75</td>\n",
              "      <td>0.75</td>\n",
              "      <td>0.00</td>\n",
              "      <td>0.50</td>\n",
              "      <td>0.75</td>\n",
              "      <td>1.00</td>\n",
              "      <td>0.000000</td>\n",
              "      <td>0.5000</td>\n",
              "      <td>0.631579</td>\n",
              "      <td>0.50</td>\n",
              "    </tr>\n",
              "    <tr>\n",
              "      <th>394</th>\n",
              "      <td>1.0</td>\n",
              "      <td>1.0</td>\n",
              "      <td>0.571429</td>\n",
              "      <td>1.0</td>\n",
              "      <td>1.0</td>\n",
              "      <td>1.0</td>\n",
              "      <td>0.25</td>\n",
              "      <td>0.25</td>\n",
              "      <td>0.0</td>\n",
              "      <td>0.0</td>\n",
              "      <td>1.0</td>\n",
              "      <td>0.0</td>\n",
              "      <td>0.0</td>\n",
              "      <td>1.0</td>\n",
              "      <td>0.0</td>\n",
              "      <td>0.0</td>\n",
              "      <td>0.0</td>\n",
              "      <td>0.0</td>\n",
              "      <td>1.0</td>\n",
              "      <td>0.0</td>\n",
              "      <td>0.0</td>\n",
              "      <td>0.0</td>\n",
              "      <td>1.0</td>\n",
              "      <td>0.0</td>\n",
              "      <td>0.0</td>\n",
              "      <td>0.000000</td>\n",
              "      <td>0.000000</td>\n",
              "      <td>0.000000</td>\n",
              "      <td>0.0</td>\n",
              "      <td>0.0</td>\n",
              "      <td>0.0</td>\n",
              "      <td>0.0</td>\n",
              "      <td>1.0</td>\n",
              "      <td>1.0</td>\n",
              "      <td>1.0</td>\n",
              "      <td>0.0</td>\n",
              "      <td>0.50</td>\n",
              "      <td>0.25</td>\n",
              "      <td>0.50</td>\n",
              "      <td>0.50</td>\n",
              "      <td>0.50</td>\n",
              "      <td>1.00</td>\n",
              "      <td>0.066667</td>\n",
              "      <td>0.3125</td>\n",
              "      <td>0.473684</td>\n",
              "      <td>0.45</td>\n",
              "    </tr>\n",
              "  </tbody>\n",
              "</table>\n",
              "<p>395 rows × 46 columns</p>\n",
              "</div>"
            ],
            "text/plain": [
              "      GP    F       age    R  GT3  ...  health.2  absences      G1        G2    G3\n",
              "0    0.0  0.0  0.428571  1.0  0.0  ...      0.50  0.080000  0.1250  0.315789  0.30\n",
              "1    0.0  0.0  0.285714  1.0  0.0  ...      0.50  0.053333  0.1250  0.263158  0.30\n",
              "2    0.0  0.0  0.000000  1.0  1.0  ...      0.50  0.133333  0.2500  0.421053  0.50\n",
              "3    0.0  0.0  0.000000  1.0  0.0  ...      1.00  0.026667  0.7500  0.736842  0.75\n",
              "4    0.0  0.0  0.142857  1.0  0.0  ...      1.00  0.053333  0.1875  0.526316  0.50\n",
              "..   ...  ...       ...  ...  ...  ...       ...       ...     ...       ...   ...\n",
              "390  1.0  1.0  0.714286  1.0  1.0  ...      0.75  0.146667  0.3750  0.473684  0.45\n",
              "391  1.0  1.0  0.285714  1.0  1.0  ...      0.25  0.040000  0.6875  0.842105  0.80\n",
              "392  1.0  1.0  0.857143  0.0  0.0  ...      0.50  0.040000  0.4375  0.421053  0.35\n",
              "393  1.0  1.0  0.428571  0.0  1.0  ...      1.00  0.000000  0.5000  0.631579  0.50\n",
              "394  1.0  1.0  0.571429  1.0  1.0  ...      1.00  0.066667  0.3125  0.473684  0.45\n",
              "\n",
              "[395 rows x 46 columns]"
            ]
          },
          "metadata": {
            "tags": []
          },
          "execution_count": 6
        }
      ]
    },
    {
      "cell_type": "markdown",
      "metadata": {
        "id": "OLgO5ipOsTFs",
        "colab_type": "text"
      },
      "source": [
        "##Visualization of Features."
      ]
    },
    {
      "cell_type": "markdown",
      "metadata": {
        "id": "QbDNKmQ5eHnp",
        "colab_type": "text"
      },
      "source": [
        "Another tool we can use to find correlations is by using a heatmap. Here we can see the correlation between each feature and every other feature present. Due to the fact that there are 46 columns, we can see that this kind of method isn't recommended.\n",
        "\n",
        "As discussed in the data cleaning process, our first data set was split into many columns, containing either 0 or 1. Hence trying to understand the correlation using heatmap for this data set is a cumbersome process."
      ]
    },
    {
      "cell_type": "code",
      "metadata": {
        "id": "FvTk1n4O_ZFc",
        "colab_type": "code",
        "colab": {
          "base_uri": "https://localhost:8080/",
          "height": 910
        },
        "outputId": "8d3a0eb2-4d86-4eed-b6a0-22ba12bfdcf1"
      },
      "source": [
        "corr=df1.corr()\n",
        "fig,ax=plt.subplots(figsize=(25,14))\n",
        "ax=sns.heatmap(corr,annot = False,\n",
        "               xticklabels=corr.columns.values,\n",
        "               yticklabels=corr.columns.values,)\n",
        "plt.title('Correlation Heatmap', fontsize=20)"
      ],
      "execution_count": 7,
      "outputs": [
        {
          "output_type": "execute_result",
          "data": {
            "text/plain": [
              "Text(0.5, 1.0, 'Correlation Heatmap')"
            ]
          },
          "metadata": {
            "tags": []
          },
          "execution_count": 7
        },
        {
          "output_type": "display_data",
          "data": {
            "image/png": "[encoded data removed]",
            "text/plain": [
              "<Figure size 1800x1008 with 2 Axes>"
            ]
          },
          "metadata": {
            "tags": []
          }
        }
      ]
    },
    {
      "cell_type": "markdown",
      "metadata": {
        "id": "xKbJ5RdYfbVv",
        "colab_type": "text"
      },
      "source": [
        "We saw the drawback of using heatmap for a large number of columns. next, we compare each feature with the target \"G3\" and we end up with the following graphs."
      ]
    },
    {
      "cell_type": "code",
      "metadata": {
        "id": "yA5hfSYQ7k-2",
        "colab_type": "code",
        "colab": {
          "base_uri": "https://localhost:8080/",
          "height": 227
        },
        "outputId": "1a2c3566-07d6-473e-bb93-33fd7dc07db3"
      },
      "source": [
        "    %matplotlib inline\n",
        "    plt.rcParams['figure.figsize']=5,5\n",
        "    columns=list(df1.columns.values)\n",
        "    g=sns.pairplot(df1,x_vars=columns,y_vars = ['G3'])"
      ],
      "execution_count": 8,
      "outputs": [
        {
          "output_type": "display_data",
          "data": {
            "image/png": "[encoded data removed]",
            "text/plain": [
              "<Figure size 8280x180 with 46 Axes>"
            ]
          },
          "metadata": {
            "tags": []
          }
        }
      ]
    },
    {
      "cell_type": "markdown",
      "metadata": {
        "id": "iXV6Df4ef1fk",
        "colab_type": "text"
      },
      "source": [
        "Now after visualization, and by observing the correlation, I have chosen \"G1\", \"G2\", and \"failures\" as the necessary attributes for my models.\n",
        "\n",
        "We will now use two approches to estimate out result. we will first use **Linear Regression**, followed by **Multivariate Polynomial Regression**."
      ]
    },
    {
      "cell_type": "markdown",
      "metadata": {
        "id": "rb3sDqehglTx",
        "colab_type": "text"
      },
      "source": [
        "##Linear Regression."
      ]
    },
    {
      "cell_type": "markdown",
      "metadata": {
        "id": "jVu8ZYmRuoJl",
        "colab_type": "text"
      },
      "source": [
        "###Hypothesis Equation"
      ]
    },
    {
      "cell_type": "code",
      "metadata": {
        "id": "7SoUgjE5--Ws",
        "colab_type": "code",
        "colab": {}
      },
      "source": [
        "def h(a,x,b):\n",
        "  return (a*x)+b"
      ],
      "execution_count": 0,
      "outputs": []
    },
    {
      "cell_type": "markdown",
      "metadata": {
        "id": "hbHcbNdzus2P",
        "colab_type": "text"
      },
      "source": [
        "###Error/Cost Function"
      ]
    },
    {
      "cell_type": "code",
      "metadata": {
        "id": "5Lz3XUBQ--SV",
        "colab_type": "code",
        "colab": {}
      },
      "source": [
        "def l_error(a,x,b,y):\n",
        "  m=len(y)\n",
        "  e=0\n",
        "  for i in range(m):\n",
        "    e+=np.power(h(a,x[i],b)-y[i],2)\n",
        "\n",
        "  return e/(2*m)"
      ],
      "execution_count": 0,
      "outputs": []
    },
    {
      "cell_type": "markdown",
      "metadata": {
        "id": "syyGJQ5suv5o",
        "colab_type": "text"
      },
      "source": [
        "###Step Gradient Function"
      ]
    },
    {
      "cell_type": "code",
      "metadata": {
        "id": "F0VNN4-X--P9",
        "colab_type": "code",
        "colab": {}
      },
      "source": [
        "def l_step_gradient(a,x,b,y,learning_rate):\n",
        "  grad_a=0\n",
        "  grad_b=0\n",
        "  m=len(y)\n",
        "  for i in range(m):\n",
        "    grad_a+=(1/m)*(h(a,x[i],b)-y[i])*x[i]\n",
        "    grad_b+=(1/m)*(h(a,x[i],b)-y[i])\n",
        "\n",
        "  a=a-(grad_a*learning_rate)\n",
        "  b=b-(grad_b*learning_rate)\n",
        "\n",
        "  return a,b"
      ],
      "execution_count": 0,
      "outputs": []
    },
    {
      "cell_type": "markdown",
      "metadata": {
        "id": "Vjy2DqaUu0P1",
        "colab_type": "text"
      },
      "source": [
        "###Gradient descent Function"
      ]
    },
    {
      "cell_type": "code",
      "metadata": {
        "id": "IW3d9ydc--Ny",
        "colab_type": "code",
        "colab": {}
      },
      "source": [
        "def l_descend(init_a,x,init_b,y,learning_rate,iter):\n",
        "  a = init_a\n",
        "  b = init_b\n",
        "\n",
        "  for i in range(iter):\n",
        "    if i%1000==0:\n",
        "      print(f\"Error: {l_error(a,x,b,y)} | a: {a} | b: {b}\")\n",
        "    a,b = l_step_gradient(a,x,b,y,learning_rate)\n",
        "\n",
        "  return a, b"
      ],
      "execution_count": 0,
      "outputs": []
    },
    {
      "cell_type": "code",
      "metadata": {
        "id": "9Sa9v9JO--Kq",
        "colab_type": "code",
        "colab": {}
      },
      "source": [
        "a=0\n",
        "b=0\n",
        "learning_rate=0.01"
      ],
      "execution_count": 0,
      "outputs": []
    },
    {
      "cell_type": "markdown",
      "metadata": {
        "id": "8rPUJVGevFpt",
        "colab_type": "text"
      },
      "source": [
        "###Training the Model"
      ]
    },
    {
      "cell_type": "markdown",
      "metadata": {
        "id": "z3pMSOUtgn2W",
        "colab_type": "text"
      },
      "source": [
        "After defining all our functions, we now plot a graph to see the correlation between \"G2\" and \"G3\", and our not-yet-trained model. "
      ]
    },
    {
      "cell_type": "code",
      "metadata": {
        "id": "Cy6WYrVnFpor",
        "colab_type": "code",
        "colab": {
          "base_uri": "https://localhost:8080/",
          "height": 354
        },
        "outputId": "fe233c26-4961-4d9f-89df-861d3776f598"
      },
      "source": [
        "plt.plot(df1[\"G2\"].values,df1[\"G3\"].values,'g.',df1[\"G2\"].values,h(a,df1[\"G2\"].values,b),'b')"
      ],
      "execution_count": 14,
      "outputs": [
        {
          "output_type": "execute_result",
          "data": {
            "text/plain": [
              "[<matplotlib.lines.Line2D at 0x7fc595f5be48>,\n",
              " <matplotlib.lines.Line2D at 0x7fc595f5be80>]"
            ]
          },
          "metadata": {
            "tags": []
          },
          "execution_count": 14
        },
        {
          "output_type": "display_data",
          "data": {
            "image/png": "[encoded data removed]",
            "text/plain": [
              "<Figure size 360x360 with 1 Axes>"
            ]
          },
          "metadata": {
            "tags": []
          }
        }
      ]
    },
    {
      "cell_type": "markdown",
      "metadata": {
        "id": "Cqz8eCtnhLte",
        "colab_type": "text"
      },
      "source": [
        "Now we train our Linear Regression model."
      ]
    },
    {
      "cell_type": "code",
      "metadata": {
        "id": "ACl4M7Xp--H0",
        "colab_type": "code",
        "colab": {
          "base_uri": "https://localhost:8080/",
          "height": 185
        },
        "outputId": "78d95471-ca5a-4118-99a9-6d367f5d8bae"
      },
      "source": [
        "a,b = l_descend(a,df1[\"G2\"].values,b,df1[\"G3\"].values,learning_rate,10000)"
      ],
      "execution_count": 15,
      "outputs": [
        {
          "output_type": "stream",
          "text": [
            "Error: 0.16176582278480986 | a: 0 | b: 0\n",
            "Error: 0.01196548875877719 | a: 0.4413910736776251 | b: 0.2822236058724185\n",
            "Error: 0.008750286908074369 | a: 0.5958876107959171 | b: 0.19246204964861124\n",
            "Error: 0.0069662778583707225 | a: 0.7109708620128065 | b: 0.12559874527923393\n",
            "Error: 0.00597639030618498 | a: 0.79669567130284 | b: 0.07579267919167106\n",
            "Error: 0.0054271344791839505 | a: 0.8605515569347093 | b: 0.03869244547635986\n",
            "Error: 0.005122370606935583 | a: 0.9081174152154156 | b: 0.011056708509885802\n",
            "Error: 0.0049532672251199426 | a: 0.9435489318499783 | b: -0.009528982770138783\n",
            "Error: 0.004859437357653954 | a: 0.9699416516789079 | b: -0.024863138178788366\n",
            "Error: 0.004807374270954232 | a: 0.9896014271029413 | b: -0.03628545666681406\n"
          ],
          "name": "stdout"
        }
      ]
    },
    {
      "cell_type": "markdown",
      "metadata": {
        "id": "8tL4kb8_hSAd",
        "colab_type": "text"
      },
      "source": [
        "After Training our Model, we end up with the following graph. We can see that our Model has fit very well with the desired output points."
      ]
    },
    {
      "cell_type": "code",
      "metadata": {
        "id": "t3j97kAVGAcL",
        "colab_type": "code",
        "colab": {
          "base_uri": "https://localhost:8080/",
          "height": 354
        },
        "outputId": "4a9a8257-c2ce-4bd3-906d-f655926d4b53"
      },
      "source": [
        "plt.plot(df1[\"G2\"].values, df1[\"G3\"].values, 'g.',\n",
        "         df1[\"G2\"].values, h(a, df1[\"G2\"].values,b), 'b')"
      ],
      "execution_count": 16,
      "outputs": [
        {
          "output_type": "execute_result",
          "data": {
            "text/plain": [
              "[<matplotlib.lines.Line2D at 0x7fc595f36940>,\n",
              " <matplotlib.lines.Line2D at 0x7fc595f36fd0>]"
            ]
          },
          "metadata": {
            "tags": []
          },
          "execution_count": 16
        },
        {
          "output_type": "display_data",
          "data": {
            "image/png": "[encoded data removed]",
            "text/plain": [
              "<Figure size 360x360 with 1 Axes>"
            ]
          },
          "metadata": {
            "tags": []
          }
        }
      ]
    },
    {
      "cell_type": "markdown",
      "metadata": {
        "id": "PsTsScIChl6K",
        "colab_type": "text"
      },
      "source": [
        "We now calculate the possible deviation of our predicted data points from the actual points given. This is done by using the mean squared error function to give us an accuracy of 6.91% for or training data set."
      ]
    },
    {
      "cell_type": "markdown",
      "metadata": {
        "id": "8EBTTJLtvPWt",
        "colab_type": "text"
      },
      "source": [
        "###Deviation of Prediction From Actual Output (Train and Test)"
      ]
    },
    {
      "cell_type": "code",
      "metadata": {
        "id": "BH9VzeEY--FU",
        "colab_type": "code",
        "colab": {
          "base_uri": "https://localhost:8080/",
          "height": 34
        },
        "outputId": "46d386d6-fba4-4598-c6e9-010ea6970726"
      },
      "source": [
        "print(\"{0:.2f}%\".format(np.sqrt(l_error(a, df1[\"G2\"],b, df1[\"G3\"]))*100))"
      ],
      "execution_count": 17,
      "outputs": [
        {
          "output_type": "stream",
          "text": [
            "6.91%\n"
          ],
          "name": "stdout"
        }
      ]
    },
    {
      "cell_type": "markdown",
      "metadata": {
        "id": "JeD5muTNjBDU",
        "colab_type": "text"
      },
      "source": [
        "When we plug our test data set into our trained model, we get an accuracy of 6.36%."
      ]
    },
    {
      "cell_type": "code",
      "metadata": {
        "id": "XeZJFzEd--Ax",
        "colab_type": "code",
        "colab": {
          "base_uri": "https://localhost:8080/",
          "height": 34
        },
        "outputId": "14f03acd-c9a2-403a-ab6a-74c95e296819"
      },
      "source": [
        "print(\"{0:.2f}%\".format(np.sqrt(l_error(a, test_df1[\"G2\"],b, test_df1[\"G3\"]))*100))"
      ],
      "execution_count": 18,
      "outputs": [
        {
          "output_type": "stream",
          "text": [
            "6.36%\n"
          ],
          "name": "stdout"
        }
      ]
    },
    {
      "cell_type": "markdown",
      "metadata": {
        "id": "nxKNu6rqjYRq",
        "colab_type": "text"
      },
      "source": [
        "We now try to replace \"G2\" with \"G1\", but we observe that we don't get as good an accuracy as we did before, neither with train or test data set."
      ]
    },
    {
      "cell_type": "code",
      "metadata": {
        "id": "o8mT1o-J-992",
        "colab_type": "code",
        "colab": {
          "base_uri": "https://localhost:8080/",
          "height": 185
        },
        "outputId": "9a635d3b-5ffc-47a2-f5fc-ea557a946ffc"
      },
      "source": [
        "a,b = l_descend(a,df1[\"G1\"].values,b,df1[\"G3\"].values,learning_rate,10000)"
      ],
      "execution_count": 19,
      "outputs": [
        {
          "output_type": "stream",
          "text": [
            "Error: 0.012055982626229741 | a: 1.0042458734589295 | b: -0.04479387178097798\n",
            "Error: 0.00959350204396 | a: 0.9889605297591293 | b: 0.03008946340060291\n",
            "Error: 0.009477618040414136 | a: 0.958801909476745 | b: 0.04552603893497236\n",
            "Error: 0.009419219188057826 | a: 0.9373925739349732 | b: 0.056484167167845836\n",
            "Error: 0.00938978953553531 | a: 0.9221943233868085 | b: 0.06426322122049537\n",
            "Error: 0.009374958688478416 | a: 0.9114052533911127 | b: 0.06978548566852218\n",
            "Error: 0.009367484797162292 | a: 0.9037462119111017 | b: 0.07370568013272556\n",
            "Error: 0.009363718387112259 | a: 0.8983091430612418 | b: 0.07648858283175666\n",
            "Error: 0.009361820333733518 | a: 0.8944494280100496 | b: 0.07846413468332639\n",
            "Error: 0.009360863824330485 | a: 0.8917094589775095 | b: 0.07986655709629881\n"
          ],
          "name": "stdout"
        }
      ]
    },
    {
      "cell_type": "code",
      "metadata": {
        "id": "yJPpCe4Q-91g",
        "colab_type": "code",
        "colab": {
          "base_uri": "https://localhost:8080/",
          "height": 34
        },
        "outputId": "90543c2a-9e3f-48ff-dbc2-97e8b8763fee"
      },
      "source": [
        "print(\"{0:.2f}%\".format(np.sqrt(l_error(a, df1[\"G1\"],b, df1[\"G3\"]))*100))"
      ],
      "execution_count": 20,
      "outputs": [
        {
          "output_type": "stream",
          "text": [
            "9.67%\n"
          ],
          "name": "stdout"
        }
      ]
    },
    {
      "cell_type": "code",
      "metadata": {
        "id": "wkfdF-TFEq3i",
        "colab_type": "code",
        "colab": {
          "base_uri": "https://localhost:8080/",
          "height": 34
        },
        "outputId": "9e81b6a0-e35f-47d0-eabb-e7470fa399dd"
      },
      "source": [
        "print(\"{0:.2f}%\".format(np.sqrt(l_error(a, test_df1[\"G1\"],b, test_df1[\"G3\"]))*100))"
      ],
      "execution_count": 21,
      "outputs": [
        {
          "output_type": "stream",
          "text": [
            "6.87%\n"
          ],
          "name": "stdout"
        }
      ]
    },
    {
      "cell_type": "markdown",
      "metadata": {
        "id": "41PILI15kd9m",
        "colab_type": "text"
      },
      "source": [
        "So now we know that by using Linear Regression, we get a pretty accurate prediction.\n",
        "\n",
        "We now try take 2 features, and try to fit a polynomial to make our model more accurate, and decreasse the error, by using **Multivariate Polynomial Regression**."
      ]
    },
    {
      "cell_type": "markdown",
      "metadata": {
        "id": "TeETblnkvqcs",
        "colab_type": "text"
      },
      "source": [
        "##Multivariate Polynomial Regression"
      ]
    },
    {
      "cell_type": "markdown",
      "metadata": {
        "id": "_Kotjt0o5UG3",
        "colab_type": "text"
      },
      "source": [
        "###Hypothesis Equation"
      ]
    },
    {
      "cell_type": "code",
      "metadata": {
        "id": "etHbNTzLGc8Z",
        "colab_type": "code",
        "colab": {}
      },
      "source": [
        "def hypothesis(a,b,c,x1,x2):\n",
        "    return a * x1 + b * np.power(x2, 2) + c"
      ],
      "execution_count": 0,
      "outputs": []
    },
    {
      "cell_type": "markdown",
      "metadata": {
        "id": "7zws9ywU5Xuc",
        "colab_type": "text"
      },
      "source": [
        "###Error/Cost Function"
      ]
    },
    {
      "cell_type": "code",
      "metadata": {
        "id": "Q2Ykxtc-Gc8k",
        "colab_type": "code",
        "colab": {}
      },
      "source": [
        "def error(a,b,c,x1,x2,y):\n",
        "  m = len(y)\n",
        "  e = 0\n",
        "  for i in range(m):\n",
        "    e += np.power(hypothesis(a,b,c,x1[i], x2[i])-y[i], 2)\n",
        "  \n",
        "  return e/(2*m)    "
      ],
      "execution_count": 0,
      "outputs": []
    },
    {
      "cell_type": "markdown",
      "metadata": {
        "id": "2JIXOIdC5bPb",
        "colab_type": "text"
      },
      "source": [
        "###Step Gradient Function"
      ]
    },
    {
      "cell_type": "code",
      "metadata": {
        "id": "E7b7wRfZGc8v",
        "colab_type": "code",
        "colab": {}
      },
      "source": [
        "def step_gradient(a,b,c, x1,x2,y,learning_rate):\n",
        "  grad_a = 0\n",
        "  grad_b = 0\n",
        "  grad_c = 0\n",
        "  m = len(y)\n",
        "  for i in range(m):\n",
        "    grad_a += (1/m) * (hypothesis(a,b,c,x1[i], x2[i]) - y[i]) * x1[i]\n",
        "    grad_b += (1/m) * (hypothesis(a,b,c,x1[i], x2[i]) - y[i]) * x2[i]\n",
        "    grad_c += (1/m) * (hypothesis(a,b,c,x1[i], x2[i]) - y[i])\n",
        "\n",
        "  a = a - (grad_a * learning_rate)\n",
        "  b = b - (grad_b * learning_rate)\n",
        "  c = c - (grad_c * learning_rate)\n",
        "\n",
        "  return a,b,c"
      ],
      "execution_count": 0,
      "outputs": []
    },
    {
      "cell_type": "markdown",
      "metadata": {
        "id": "WAJ3MbYj5eoK",
        "colab_type": "text"
      },
      "source": [
        "###Gradient Descent Function"
      ]
    },
    {
      "cell_type": "code",
      "metadata": {
        "id": "Z0hy8PFgGc89",
        "colab_type": "code",
        "colab": {}
      },
      "source": [
        "def descend(init_a,init_b,init_c, x1,x2,y,learning_rate,iters):\n",
        "  a = init_a\n",
        "  b = init_b\n",
        "  c = init_c\n",
        "\n",
        "  for i in range(iterations):\n",
        "    if i%1000==0:\n",
        "      print(\"Error: %.5f | a: %.5f | b: %.5f | c: %.5f\" %(error(a,b,c, x1,x2,y),a,b,c))\n",
        "    a,b,c = step_gradient(a,b,c, x1,x2,y,learning_rate)\n",
        "\n",
        "  return a,b,c"
      ],
      "execution_count": 0,
      "outputs": []
    },
    {
      "cell_type": "markdown",
      "metadata": {
        "id": "4pNraHJI5lMY",
        "colab_type": "text"
      },
      "source": [
        "###Training the Model"
      ]
    },
    {
      "cell_type": "code",
      "metadata": {
        "id": "9qnjMTzSGc95",
        "colab_type": "code",
        "outputId": "1480893a-31f7-4da7-f1ce-64d931d6fcab",
        "colab": {
          "base_uri": "https://localhost:8080/",
          "height": 185
        }
      },
      "source": [
        "a,b,c = 0,0,0\n",
        "learning_rate = 0.05\n",
        "iterations = 10000\n",
        "\n",
        "a, b, c = descend(a, b, c, df1[\"G2\"], df1[\"failures\"], df1[\"G3\"], learning_rate, iterations)"
      ],
      "execution_count": 26,
      "outputs": [
        {
          "output_type": "stream",
          "text": [
            "Error: 0.16177 | a: 0.00000 | b: 0.00000 | c: 0.00000\n",
            "Error: 0.00566 | a: 0.82214 | b: -0.15696 | c: 0.07172\n",
            "Error: 0.00488 | a: 0.96385 | b: -0.09291 | c: -0.01498\n",
            "Error: 0.00477 | a: 1.00800 | b: -0.06451 | c: -0.04259\n",
            "Error: 0.00475 | a: 1.02251 | b: -0.05468 | c: -0.05170\n",
            "Error: 0.00475 | a: 1.02733 | b: -0.05139 | c: -0.05472\n",
            "Error: 0.00474 | a: 1.02893 | b: -0.05030 | c: -0.05573\n",
            "Error: 0.00474 | a: 1.02946 | b: -0.04994 | c: -0.05606\n",
            "Error: 0.00474 | a: 1.02964 | b: -0.04981 | c: -0.05617\n",
            "Error: 0.00474 | a: 1.02970 | b: -0.04977 | c: -0.05621\n"
          ],
          "name": "stdout"
        }
      ]
    },
    {
      "cell_type": "markdown",
      "metadata": {
        "id": "X-5gOq1R5rfn",
        "colab_type": "text"
      },
      "source": [
        "###Deviation of Prediction From Actual Output (Train and Test)"
      ]
    },
    {
      "cell_type": "code",
      "metadata": {
        "id": "8IU51lgcGc-C",
        "colab_type": "code",
        "outputId": "cc8daa98-e753-47d9-b627-220f6e185ff0",
        "colab": {
          "base_uri": "https://localhost:8080/",
          "height": 34
        }
      },
      "source": [
        "print(\"{0:.2f}%\".format(np.sqrt(error(a,b,c, df1[\"G2\"], df1[\"failures\"], df1[\"G3\"]))*100)) "
      ],
      "execution_count": 27,
      "outputs": [
        {
          "output_type": "stream",
          "text": [
            "6.89%\n"
          ],
          "name": "stdout"
        }
      ]
    },
    {
      "cell_type": "code",
      "metadata": {
        "id": "mWtnop9XXpNs",
        "colab_type": "code",
        "outputId": "c204186e-7214-4c78-942e-baa31cadb877",
        "colab": {
          "base_uri": "https://localhost:8080/",
          "height": 320
        }
      },
      "source": [
        "fig = plt.figure()\n",
        "ax = fig.add_subplot(111, projection='3d')\n",
        "ax.view_init(0,180)\n",
        "\n",
        "ax.scatter(df1[\"G2\"], df1[\"failures\"], df1[\"G3\"], c='y', marker='.')\n",
        "ax.scatter(df1[\"G2\"], df1[\"failures\"], hypothesis(a,b,c,df1[\"G2\"], df1[\"failures\"]), c='r', marker='.')"
      ],
      "execution_count": 28,
      "outputs": [
        {
          "output_type": "execute_result",
          "data": {
            "text/plain": [
              "<mpl_toolkits.mplot3d.art3d.Path3DCollection at 0x7fc5959ed8d0>"
            ]
          },
          "metadata": {
            "tags": []
          },
          "execution_count": 28
        },
        {
          "output_type": "display_data",
          "data": {
            "image/png": "[encoded data removed]",
            "text/plain": [
              "<Figure size 360x360 with 1 Axes>"
            ]
          },
          "metadata": {
            "tags": []
          }
        }
      ]
    },
    {
      "cell_type": "code",
      "metadata": {
        "id": "SWYsHPe-lwqQ",
        "colab_type": "code",
        "outputId": "dea4e354-aae5-4431-cda0-68fda8d27511",
        "colab": {
          "base_uri": "https://localhost:8080/",
          "height": 34
        }
      },
      "source": [
        "print(\"{0:.2f}%\".format(np.sqrt(error(a,b,c, test_df1[\"G2\"], test_df1[\"failures\"], test_df1[\"G3\"]))*100)) "
      ],
      "execution_count": 29,
      "outputs": [
        {
          "output_type": "stream",
          "text": [
            "6.28%\n"
          ],
          "name": "stdout"
        }
      ]
    },
    {
      "cell_type": "markdown",
      "metadata": {
        "id": "5XGVRarylALD",
        "colab_type": "text"
      },
      "source": [
        "After following similar steps to Linear Regression we end up with an accuracy, a fraction improved, but not that different to the one we observed in Linear Regression.\n",
        "\n",
        "This observation shows us that, adding another feature apart from \"G2\", does not affect our accuracy that much. Still, knowing this, we will try to plug in our second train and test data set to see if there is any difference.\n",
        "\n",
        "We follow similar steps as before, so feel free to refer to the explanations given before."
      ]
    },
    {
      "cell_type": "markdown",
      "metadata": {
        "id": "XLdEHwkYwY9b",
        "colab_type": "text"
      },
      "source": [
        "#Train and Test Data Set -- 2"
      ]
    },
    {
      "cell_type": "code",
      "metadata": {
        "id": "unBdpZPzPUQH",
        "colab_type": "code",
        "colab": {
          "base_uri": "https://localhost:8080/",
          "height": 422
        },
        "outputId": "7de242d8-e334-4519-b691-37be97dc763f"
      },
      "source": [
        "df2"
      ],
      "execution_count": 30,
      "outputs": [
        {
          "output_type": "execute_result",
          "data": {
            "text/html": [
              "<div>\n",
              "<style scoped>\n",
              "    .dataframe tbody tr th:only-of-type {\n",
              "        vertical-align: middle;\n",
              "    }\n",
              "\n",
              "    .dataframe tbody tr th {\n",
              "        vertical-align: top;\n",
              "    }\n",
              "\n",
              "    .dataframe thead th {\n",
              "        text-align: right;\n",
              "    }\n",
              "</style>\n",
              "<table border=\"1\" class=\"dataframe\">\n",
              "  <thead>\n",
              "    <tr style=\"text-align: right;\">\n",
              "      <th></th>\n",
              "      <th>school</th>\n",
              "      <th>sex</th>\n",
              "      <th>age</th>\n",
              "      <th>address</th>\n",
              "      <th>famsize</th>\n",
              "      <th>Pstatus</th>\n",
              "      <th>Medu</th>\n",
              "      <th>Fedu</th>\n",
              "      <th>Mjob</th>\n",
              "      <th>Fjob</th>\n",
              "      <th>reason</th>\n",
              "      <th>guardian</th>\n",
              "      <th>traveltime</th>\n",
              "      <th>studytime</th>\n",
              "      <th>failures</th>\n",
              "      <th>schoolsup</th>\n",
              "      <th>famsup</th>\n",
              "      <th>paid</th>\n",
              "      <th>activities</th>\n",
              "      <th>nursery</th>\n",
              "      <th>higher</th>\n",
              "      <th>internet</th>\n",
              "      <th>romantic</th>\n",
              "      <th>famrel</th>\n",
              "      <th>freetime</th>\n",
              "      <th>goout</th>\n",
              "      <th>Dalc</th>\n",
              "      <th>Walc</th>\n",
              "      <th>health</th>\n",
              "      <th>absences</th>\n",
              "      <th>G1</th>\n",
              "      <th>G2</th>\n",
              "      <th>G3</th>\n",
              "    </tr>\n",
              "  </thead>\n",
              "  <tbody>\n",
              "    <tr>\n",
              "      <th>0</th>\n",
              "      <td>0.0</td>\n",
              "      <td>0.0</td>\n",
              "      <td>0.428571</td>\n",
              "      <td>1.0</td>\n",
              "      <td>0.0</td>\n",
              "      <td>0.0</td>\n",
              "      <td>1.00</td>\n",
              "      <td>1.00</td>\n",
              "      <td>0.00</td>\n",
              "      <td>1.00</td>\n",
              "      <td>0.000000</td>\n",
              "      <td>0.5</td>\n",
              "      <td>0.333333</td>\n",
              "      <td>0.333333</td>\n",
              "      <td>0.000000</td>\n",
              "      <td>1.0</td>\n",
              "      <td>0.0</td>\n",
              "      <td>0.0</td>\n",
              "      <td>0.0</td>\n",
              "      <td>1.0</td>\n",
              "      <td>1.0</td>\n",
              "      <td>0.0</td>\n",
              "      <td>0.0</td>\n",
              "      <td>0.75</td>\n",
              "      <td>0.50</td>\n",
              "      <td>0.75</td>\n",
              "      <td>0.00</td>\n",
              "      <td>0.00</td>\n",
              "      <td>0.50</td>\n",
              "      <td>0.181818</td>\n",
              "      <td>0.1250</td>\n",
              "      <td>0.1875</td>\n",
              "      <td>0.176471</td>\n",
              "    </tr>\n",
              "    <tr>\n",
              "      <th>1</th>\n",
              "      <td>0.0</td>\n",
              "      <td>0.0</td>\n",
              "      <td>0.285714</td>\n",
              "      <td>1.0</td>\n",
              "      <td>0.0</td>\n",
              "      <td>1.0</td>\n",
              "      <td>0.25</td>\n",
              "      <td>0.25</td>\n",
              "      <td>0.00</td>\n",
              "      <td>0.50</td>\n",
              "      <td>0.000000</td>\n",
              "      <td>0.0</td>\n",
              "      <td>0.000000</td>\n",
              "      <td>0.333333</td>\n",
              "      <td>0.000000</td>\n",
              "      <td>0.0</td>\n",
              "      <td>1.0</td>\n",
              "      <td>0.0</td>\n",
              "      <td>0.0</td>\n",
              "      <td>0.0</td>\n",
              "      <td>1.0</td>\n",
              "      <td>1.0</td>\n",
              "      <td>0.0</td>\n",
              "      <td>1.00</td>\n",
              "      <td>0.50</td>\n",
              "      <td>0.50</td>\n",
              "      <td>0.00</td>\n",
              "      <td>0.00</td>\n",
              "      <td>0.50</td>\n",
              "      <td>0.121212</td>\n",
              "      <td>0.1250</td>\n",
              "      <td>0.1250</td>\n",
              "      <td>0.176471</td>\n",
              "    </tr>\n",
              "    <tr>\n",
              "      <th>2</th>\n",
              "      <td>0.0</td>\n",
              "      <td>0.0</td>\n",
              "      <td>0.000000</td>\n",
              "      <td>1.0</td>\n",
              "      <td>1.0</td>\n",
              "      <td>1.0</td>\n",
              "      <td>0.25</td>\n",
              "      <td>0.25</td>\n",
              "      <td>0.00</td>\n",
              "      <td>0.50</td>\n",
              "      <td>0.666667</td>\n",
              "      <td>0.5</td>\n",
              "      <td>0.000000</td>\n",
              "      <td>0.333333</td>\n",
              "      <td>1.000000</td>\n",
              "      <td>1.0</td>\n",
              "      <td>0.0</td>\n",
              "      <td>1.0</td>\n",
              "      <td>0.0</td>\n",
              "      <td>1.0</td>\n",
              "      <td>1.0</td>\n",
              "      <td>1.0</td>\n",
              "      <td>0.0</td>\n",
              "      <td>0.75</td>\n",
              "      <td>0.50</td>\n",
              "      <td>0.25</td>\n",
              "      <td>0.25</td>\n",
              "      <td>0.50</td>\n",
              "      <td>0.50</td>\n",
              "      <td>0.303030</td>\n",
              "      <td>0.2500</td>\n",
              "      <td>0.3125</td>\n",
              "      <td>0.411765</td>\n",
              "    </tr>\n",
              "    <tr>\n",
              "      <th>3</th>\n",
              "      <td>0.0</td>\n",
              "      <td>0.0</td>\n",
              "      <td>0.000000</td>\n",
              "      <td>1.0</td>\n",
              "      <td>0.0</td>\n",
              "      <td>1.0</td>\n",
              "      <td>1.00</td>\n",
              "      <td>0.50</td>\n",
              "      <td>0.25</td>\n",
              "      <td>0.75</td>\n",
              "      <td>0.333333</td>\n",
              "      <td>0.5</td>\n",
              "      <td>0.000000</td>\n",
              "      <td>0.666667</td>\n",
              "      <td>0.000000</td>\n",
              "      <td>0.0</td>\n",
              "      <td>1.0</td>\n",
              "      <td>1.0</td>\n",
              "      <td>1.0</td>\n",
              "      <td>1.0</td>\n",
              "      <td>1.0</td>\n",
              "      <td>1.0</td>\n",
              "      <td>1.0</td>\n",
              "      <td>0.50</td>\n",
              "      <td>0.25</td>\n",
              "      <td>0.25</td>\n",
              "      <td>0.00</td>\n",
              "      <td>0.00</td>\n",
              "      <td>1.00</td>\n",
              "      <td>0.060606</td>\n",
              "      <td>0.7500</td>\n",
              "      <td>0.6875</td>\n",
              "      <td>0.705882</td>\n",
              "    </tr>\n",
              "    <tr>\n",
              "      <th>4</th>\n",
              "      <td>0.0</td>\n",
              "      <td>0.0</td>\n",
              "      <td>0.142857</td>\n",
              "      <td>1.0</td>\n",
              "      <td>0.0</td>\n",
              "      <td>1.0</td>\n",
              "      <td>0.75</td>\n",
              "      <td>0.75</td>\n",
              "      <td>0.50</td>\n",
              "      <td>0.50</td>\n",
              "      <td>0.333333</td>\n",
              "      <td>0.0</td>\n",
              "      <td>0.000000</td>\n",
              "      <td>0.333333</td>\n",
              "      <td>0.000000</td>\n",
              "      <td>0.0</td>\n",
              "      <td>1.0</td>\n",
              "      <td>1.0</td>\n",
              "      <td>0.0</td>\n",
              "      <td>1.0</td>\n",
              "      <td>1.0</td>\n",
              "      <td>0.0</td>\n",
              "      <td>0.0</td>\n",
              "      <td>0.75</td>\n",
              "      <td>0.50</td>\n",
              "      <td>0.25</td>\n",
              "      <td>0.00</td>\n",
              "      <td>0.25</td>\n",
              "      <td>1.00</td>\n",
              "      <td>0.121212</td>\n",
              "      <td>0.1875</td>\n",
              "      <td>0.4375</td>\n",
              "      <td>0.411765</td>\n",
              "    </tr>\n",
              "    <tr>\n",
              "      <th>...</th>\n",
              "      <td>...</td>\n",
              "      <td>...</td>\n",
              "      <td>...</td>\n",
              "      <td>...</td>\n",
              "      <td>...</td>\n",
              "      <td>...</td>\n",
              "      <td>...</td>\n",
              "      <td>...</td>\n",
              "      <td>...</td>\n",
              "      <td>...</td>\n",
              "      <td>...</td>\n",
              "      <td>...</td>\n",
              "      <td>...</td>\n",
              "      <td>...</td>\n",
              "      <td>...</td>\n",
              "      <td>...</td>\n",
              "      <td>...</td>\n",
              "      <td>...</td>\n",
              "      <td>...</td>\n",
              "      <td>...</td>\n",
              "      <td>...</td>\n",
              "      <td>...</td>\n",
              "      <td>...</td>\n",
              "      <td>...</td>\n",
              "      <td>...</td>\n",
              "      <td>...</td>\n",
              "      <td>...</td>\n",
              "      <td>...</td>\n",
              "      <td>...</td>\n",
              "      <td>...</td>\n",
              "      <td>...</td>\n",
              "      <td>...</td>\n",
              "      <td>...</td>\n",
              "    </tr>\n",
              "    <tr>\n",
              "      <th>390</th>\n",
              "      <td>1.0</td>\n",
              "      <td>1.0</td>\n",
              "      <td>0.714286</td>\n",
              "      <td>1.0</td>\n",
              "      <td>1.0</td>\n",
              "      <td>0.0</td>\n",
              "      <td>0.50</td>\n",
              "      <td>0.50</td>\n",
              "      <td>0.75</td>\n",
              "      <td>0.75</td>\n",
              "      <td>0.000000</td>\n",
              "      <td>1.0</td>\n",
              "      <td>0.000000</td>\n",
              "      <td>0.333333</td>\n",
              "      <td>0.666667</td>\n",
              "      <td>0.0</td>\n",
              "      <td>1.0</td>\n",
              "      <td>1.0</td>\n",
              "      <td>0.0</td>\n",
              "      <td>1.0</td>\n",
              "      <td>1.0</td>\n",
              "      <td>0.0</td>\n",
              "      <td>0.0</td>\n",
              "      <td>1.00</td>\n",
              "      <td>1.00</td>\n",
              "      <td>0.75</td>\n",
              "      <td>0.75</td>\n",
              "      <td>1.00</td>\n",
              "      <td>0.75</td>\n",
              "      <td>0.333333</td>\n",
              "      <td>0.3750</td>\n",
              "      <td>0.3750</td>\n",
              "      <td>0.352941</td>\n",
              "    </tr>\n",
              "    <tr>\n",
              "      <th>391</th>\n",
              "      <td>1.0</td>\n",
              "      <td>1.0</td>\n",
              "      <td>0.285714</td>\n",
              "      <td>1.0</td>\n",
              "      <td>1.0</td>\n",
              "      <td>1.0</td>\n",
              "      <td>0.75</td>\n",
              "      <td>0.25</td>\n",
              "      <td>0.75</td>\n",
              "      <td>0.75</td>\n",
              "      <td>0.000000</td>\n",
              "      <td>0.5</td>\n",
              "      <td>0.333333</td>\n",
              "      <td>0.000000</td>\n",
              "      <td>0.000000</td>\n",
              "      <td>0.0</td>\n",
              "      <td>0.0</td>\n",
              "      <td>0.0</td>\n",
              "      <td>0.0</td>\n",
              "      <td>0.0</td>\n",
              "      <td>1.0</td>\n",
              "      <td>1.0</td>\n",
              "      <td>0.0</td>\n",
              "      <td>0.25</td>\n",
              "      <td>0.75</td>\n",
              "      <td>1.00</td>\n",
              "      <td>0.50</td>\n",
              "      <td>0.75</td>\n",
              "      <td>0.25</td>\n",
              "      <td>0.090909</td>\n",
              "      <td>0.6875</td>\n",
              "      <td>0.8125</td>\n",
              "      <td>0.764706</td>\n",
              "    </tr>\n",
              "    <tr>\n",
              "      <th>392</th>\n",
              "      <td>1.0</td>\n",
              "      <td>1.0</td>\n",
              "      <td>0.857143</td>\n",
              "      <td>0.0</td>\n",
              "      <td>0.0</td>\n",
              "      <td>1.0</td>\n",
              "      <td>0.25</td>\n",
              "      <td>0.25</td>\n",
              "      <td>0.50</td>\n",
              "      <td>0.50</td>\n",
              "      <td>0.000000</td>\n",
              "      <td>1.0</td>\n",
              "      <td>0.000000</td>\n",
              "      <td>0.000000</td>\n",
              "      <td>1.000000</td>\n",
              "      <td>0.0</td>\n",
              "      <td>0.0</td>\n",
              "      <td>0.0</td>\n",
              "      <td>0.0</td>\n",
              "      <td>0.0</td>\n",
              "      <td>1.0</td>\n",
              "      <td>0.0</td>\n",
              "      <td>0.0</td>\n",
              "      <td>1.00</td>\n",
              "      <td>1.00</td>\n",
              "      <td>0.50</td>\n",
              "      <td>0.50</td>\n",
              "      <td>0.50</td>\n",
              "      <td>0.50</td>\n",
              "      <td>0.090909</td>\n",
              "      <td>0.4375</td>\n",
              "      <td>0.3125</td>\n",
              "      <td>0.235294</td>\n",
              "    </tr>\n",
              "    <tr>\n",
              "      <th>393</th>\n",
              "      <td>1.0</td>\n",
              "      <td>1.0</td>\n",
              "      <td>0.428571</td>\n",
              "      <td>0.0</td>\n",
              "      <td>1.0</td>\n",
              "      <td>1.0</td>\n",
              "      <td>0.75</td>\n",
              "      <td>0.50</td>\n",
              "      <td>0.75</td>\n",
              "      <td>0.50</td>\n",
              "      <td>0.000000</td>\n",
              "      <td>0.5</td>\n",
              "      <td>0.666667</td>\n",
              "      <td>0.000000</td>\n",
              "      <td>0.000000</td>\n",
              "      <td>0.0</td>\n",
              "      <td>0.0</td>\n",
              "      <td>0.0</td>\n",
              "      <td>0.0</td>\n",
              "      <td>0.0</td>\n",
              "      <td>1.0</td>\n",
              "      <td>1.0</td>\n",
              "      <td>0.0</td>\n",
              "      <td>0.75</td>\n",
              "      <td>0.75</td>\n",
              "      <td>0.00</td>\n",
              "      <td>0.50</td>\n",
              "      <td>0.75</td>\n",
              "      <td>1.00</td>\n",
              "      <td>0.000000</td>\n",
              "      <td>0.5000</td>\n",
              "      <td>0.5625</td>\n",
              "      <td>0.411765</td>\n",
              "    </tr>\n",
              "    <tr>\n",
              "      <th>394</th>\n",
              "      <td>1.0</td>\n",
              "      <td>1.0</td>\n",
              "      <td>0.571429</td>\n",
              "      <td>1.0</td>\n",
              "      <td>1.0</td>\n",
              "      <td>1.0</td>\n",
              "      <td>0.25</td>\n",
              "      <td>0.25</td>\n",
              "      <td>0.50</td>\n",
              "      <td>0.00</td>\n",
              "      <td>0.000000</td>\n",
              "      <td>0.0</td>\n",
              "      <td>0.000000</td>\n",
              "      <td>0.000000</td>\n",
              "      <td>0.000000</td>\n",
              "      <td>0.0</td>\n",
              "      <td>0.0</td>\n",
              "      <td>0.0</td>\n",
              "      <td>0.0</td>\n",
              "      <td>1.0</td>\n",
              "      <td>1.0</td>\n",
              "      <td>1.0</td>\n",
              "      <td>0.0</td>\n",
              "      <td>0.50</td>\n",
              "      <td>0.25</td>\n",
              "      <td>0.50</td>\n",
              "      <td>0.50</td>\n",
              "      <td>0.50</td>\n",
              "      <td>1.00</td>\n",
              "      <td>0.151515</td>\n",
              "      <td>0.3125</td>\n",
              "      <td>0.3750</td>\n",
              "      <td>0.352941</td>\n",
              "    </tr>\n",
              "  </tbody>\n",
              "</table>\n",
              "<p>395 rows × 33 columns</p>\n",
              "</div>"
            ],
            "text/plain": [
              "     school  sex       age  address  ...  absences      G1      G2        G3\n",
              "0       0.0  0.0  0.428571      1.0  ...  0.181818  0.1250  0.1875  0.176471\n",
              "1       0.0  0.0  0.285714      1.0  ...  0.121212  0.1250  0.1250  0.176471\n",
              "2       0.0  0.0  0.000000      1.0  ...  0.303030  0.2500  0.3125  0.411765\n",
              "3       0.0  0.0  0.000000      1.0  ...  0.060606  0.7500  0.6875  0.705882\n",
              "4       0.0  0.0  0.142857      1.0  ...  0.121212  0.1875  0.4375  0.411765\n",
              "..      ...  ...       ...      ...  ...       ...     ...     ...       ...\n",
              "390     1.0  1.0  0.714286      1.0  ...  0.333333  0.3750  0.3750  0.352941\n",
              "391     1.0  1.0  0.285714      1.0  ...  0.090909  0.6875  0.8125  0.764706\n",
              "392     1.0  1.0  0.857143      0.0  ...  0.090909  0.4375  0.3125  0.235294\n",
              "393     1.0  1.0  0.428571      0.0  ...  0.000000  0.5000  0.5625  0.411765\n",
              "394     1.0  1.0  0.571429      1.0  ...  0.151515  0.3125  0.3750  0.352941\n",
              "\n",
              "[395 rows x 33 columns]"
            ]
          },
          "metadata": {
            "tags": []
          },
          "execution_count": 30
        }
      ]
    },
    {
      "cell_type": "markdown",
      "metadata": {
        "id": "Hqh71zHhyAzX",
        "colab_type": "text"
      },
      "source": [
        "##Correlation of Target with all other features."
      ]
    },
    {
      "cell_type": "code",
      "metadata": {
        "id": "ty3wxJGOmfNe",
        "colab_type": "code",
        "colab": {
          "base_uri": "https://localhost:8080/",
          "height": 588
        },
        "outputId": "36f545f5-9cfb-4dd0-a8ac-d5e3e1b88443"
      },
      "source": [
        "abs(data2.corr('pearson')['G3']).sort_values(ascending = False)"
      ],
      "execution_count": 31,
      "outputs": [
        {
          "output_type": "execute_result",
          "data": {
            "text/plain": [
              "G3            1.000000\n",
              "G2            0.939188\n",
              "G1            0.851008\n",
              "failures      0.358565\n",
              "Medu          0.221824\n",
              "higher        0.175033\n",
              "age           0.164677\n",
              "Fedu          0.160467\n",
              "goout         0.146652\n",
              "romantic      0.120391\n",
              "traveltime    0.118814\n",
              "schoolsup     0.117905\n",
              "reason        0.115886\n",
              "address       0.115032\n",
              "sex           0.107966\n",
              "studytime     0.107569\n",
              "internet      0.105222\n",
              "Mjob          0.103090\n",
              "paid          0.081555\n",
              "Walc          0.080917\n",
              "famsize       0.077208\n",
              "Dalc          0.074477\n",
              "guardian      0.071719\n",
              "health        0.068146\n",
              "Pstatus       0.054756\n",
              "school        0.054514\n",
              "famrel        0.050990\n",
              "Fjob          0.049534\n",
              "nursery       0.049058\n",
              "famsup        0.046313\n",
              "activities    0.024963\n",
              "freetime      0.005473\n",
              "absences      0.000204\n",
              "Name: G3, dtype: float64"
            ]
          },
          "metadata": {
            "tags": []
          },
          "execution_count": 31
        }
      ]
    },
    {
      "cell_type": "markdown",
      "metadata": {
        "id": "MasmRhL7zAX3",
        "colab_type": "text"
      },
      "source": [
        "##Visualization of Features.\n"
      ]
    },
    {
      "cell_type": "code",
      "metadata": {
        "id": "zrzmPnvUPUtE",
        "colab_type": "code",
        "colab": {
          "base_uri": "https://localhost:8080/",
          "height": 888
        },
        "outputId": "f3de2d97-ac9e-464d-9737-87fbe4c555d9"
      },
      "source": [
        "corr=df2.corr()\n",
        "fig,ax=plt.subplots(figsize=(20,14))\n",
        "ax=sns.heatmap(corr,annot = False,\n",
        "               xticklabels=corr.columns.values,\n",
        "               yticklabels=corr.columns.values,)\n",
        "plt.title('Correlation Heatmap', fontsize=20)"
      ],
      "execution_count": 32,
      "outputs": [
        {
          "output_type": "execute_result",
          "data": {
            "text/plain": [
              "Text(0.5, 1.0, 'Correlation Heatmap')"
            ]
          },
          "metadata": {
            "tags": []
          },
          "execution_count": 32
        },
        {
          "output_type": "display_data",
          "data": {
            "image/png": "[encoded data removed]",
            "text/plain": [
              "<Figure size 1440x1008 with 2 Axes>"
            ]
          },
          "metadata": {
            "tags": []
          }
        }
      ]
    },
    {
      "cell_type": "code",
      "metadata": {
        "id": "B32my29IP7r_",
        "colab_type": "code",
        "colab": {
          "base_uri": "https://localhost:8080/",
          "height": 227
        },
        "outputId": "c34698cb-cf4d-45ef-b5ee-e22e52080bee"
      },
      "source": [
        "    %matplotlib inline\n",
        "    plt.rcParams['figure.figsize']=5,5\n",
        "    columns=list(df2.columns.values)\n",
        "    g=sns.pairplot(df2,x_vars=columns,y_vars = ['G3'])"
      ],
      "execution_count": 33,
      "outputs": [
        {
          "output_type": "display_data",
          "data": {
            "image/png": "[encoded data removed]",
            "text/plain": [
              "<Figure size 5940x180 with 33 Axes>"
            ]
          },
          "metadata": {
            "tags": []
          }
        }
      ]
    },
    {
      "cell_type": "markdown",
      "metadata": {
        "id": "pcT6YqVpzHFJ",
        "colab_type": "text"
      },
      "source": [
        "##Linear Regression"
      ]
    },
    {
      "cell_type": "markdown",
      "metadata": {
        "id": "Mp9CR0q0zrsL",
        "colab_type": "text"
      },
      "source": [
        "Since we have Functions for this approach defined, we will simply call it, without defining it a second time."
      ]
    },
    {
      "cell_type": "markdown",
      "metadata": {
        "id": "ir0fyFaqzM5Q",
        "colab_type": "text"
      },
      "source": [
        "###Training the model"
      ]
    },
    {
      "cell_type": "code",
      "metadata": {
        "id": "eT-SuMe-QB3_",
        "colab_type": "code",
        "colab": {}
      },
      "source": [
        "a=0\n",
        "b=0\n",
        "learning_rate=0.01"
      ],
      "execution_count": 0,
      "outputs": []
    },
    {
      "cell_type": "code",
      "metadata": {
        "id": "Ln53nug6QT58",
        "colab_type": "code",
        "colab": {
          "base_uri": "https://localhost:8080/",
          "height": 354
        },
        "outputId": "b54dbf07-e0cb-4469-9c9b-320550db248b"
      },
      "source": [
        "plt.plot(df2[\"G2\"].values,df2[\"G3\"].values,'g.',df2[\"G2\"].values,h(a,df2[\"G2\"].values,b),'b')"
      ],
      "execution_count": 35,
      "outputs": [
        {
          "output_type": "execute_result",
          "data": {
            "text/plain": [
              "[<matplotlib.lines.Line2D at 0x7fc594c13940>,\n",
              " <matplotlib.lines.Line2D at 0x7fc594c13a20>]"
            ]
          },
          "metadata": {
            "tags": []
          },
          "execution_count": 35
        },
        {
          "output_type": "display_data",
          "data": {
            "image/png": "[encoded data removed]",
            "text/plain": [
              "<Figure size 360x360 with 1 Axes>"
            ]
          },
          "metadata": {
            "tags": []
          }
        }
      ]
    },
    {
      "cell_type": "code",
      "metadata": {
        "id": "3xvqSll6QT3R",
        "colab_type": "code",
        "colab": {
          "base_uri": "https://localhost:8080/",
          "height": 185
        },
        "outputId": "2c64e6a2-8aa3-42cf-bf53-377b5127411b"
      },
      "source": [
        "a,b = l_descend(a,df2[\"G2\"].values,b,df2[\"G3\"].values,learning_rate,10000)"
      ],
      "execution_count": 36,
      "outputs": [
        {
          "output_type": "stream",
          "text": [
            "Error: 0.12985414567912054 | a: 0 | b: 0\n",
            "Error: 0.010534073163740542 | a: 0.44901729893405373 | b: 0.24466115495653923\n",
            "Error: 0.00660117257962673 | a: 0.6247802243646989 | b: 0.15540748504574436\n",
            "Error: 0.004778629849839387 | a: 0.7444289259371775 | b: 0.09464788773574989\n",
            "Error: 0.003934046588193999 | a: 0.825878790306957 | b: 0.05328629420822098\n",
            "Error: 0.003542658845018928 | a: 0.8813251120705726 | b: 0.0251297313811606\n",
            "Error: 0.0033612861225602213 | a: 0.9190697371955132 | b: 0.005962384027713499\n",
            "Error: 0.0032772363151104115 | a: 0.9447640786866566 | b: -0.007085629212545754\n",
            "Error: 0.0032382868521669984 | a: 0.9622552892226774 | b: -0.015967956348301542\n",
            "Error: 0.0032202373085736275 | a: 0.9741622861823339 | b: -0.022014527109216846\n"
          ],
          "name": "stdout"
        }
      ]
    },
    {
      "cell_type": "code",
      "metadata": {
        "id": "05curWqlQT0R",
        "colab_type": "code",
        "colab": {
          "base_uri": "https://localhost:8080/",
          "height": 354
        },
        "outputId": "5f3ec0de-54d8-491f-9c8d-89a28470db5a"
      },
      "source": [
        "plt.plot(df2[\"G2\"].values, df2[\"G3\"].values, 'g.',\n",
        "         df2[\"G2\"].values, h(a, df2[\"G2\"].values,b), 'b')"
      ],
      "execution_count": 37,
      "outputs": [
        {
          "output_type": "execute_result",
          "data": {
            "text/plain": [
              "[<matplotlib.lines.Line2D at 0x7fc594bd6b38>,\n",
              " <matplotlib.lines.Line2D at 0x7fc594bd6c18>]"
            ]
          },
          "metadata": {
            "tags": []
          },
          "execution_count": 37
        },
        {
          "output_type": "display_data",
          "data": {
            "image/png": "[encoded data removed]",
            "text/plain": [
              "<Figure size 360x360 with 1 Axes>"
            ]
          },
          "metadata": {
            "tags": []
          }
        }
      ]
    },
    {
      "cell_type": "markdown",
      "metadata": {
        "id": "Kmc__HxSzcwN",
        "colab_type": "text"
      },
      "source": [
        "###Deviation of Prediction From Actual Output (Train and Test)"
      ]
    },
    {
      "cell_type": "code",
      "metadata": {
        "id": "TF-z7cYmQTxN",
        "colab_type": "code",
        "colab": {
          "base_uri": "https://localhost:8080/",
          "height": 34
        },
        "outputId": "f315fa15-ad62-4972-b4e4-40f896a70209"
      },
      "source": [
        "print(\"{0:.2f}%\".format(np.sqrt(l_error(a, df2[\"G2\"],b, df2[\"G3\"]))*100))"
      ],
      "execution_count": 38,
      "outputs": [
        {
          "output_type": "stream",
          "text": [
            "5.67%\n"
          ],
          "name": "stdout"
        }
      ]
    },
    {
      "cell_type": "code",
      "metadata": {
        "id": "gDsAV9rpVIbT",
        "colab_type": "code",
        "colab": {
          "base_uri": "https://localhost:8080/",
          "height": 34
        },
        "outputId": "66654082-d332-4996-c6e8-1867bd9fec39"
      },
      "source": [
        "print(\"{0:.2f}%\".format(np.sqrt(l_error(a, test_df2[\"G2\"],b, test_df2[\"G3\"]))*100))"
      ],
      "execution_count": 39,
      "outputs": [
        {
          "output_type": "stream",
          "text": [
            "7.87%\n"
          ],
          "name": "stdout"
        }
      ]
    },
    {
      "cell_type": "markdown",
      "metadata": {
        "id": "hlF3x_ormKJ-",
        "colab_type": "text"
      },
      "source": [
        "After using Linear Regression on our second data set, we observe that, compared to the first one, we get a slightly better accuracy for our train data set, although the accuracy for our test data set does decrease, though it is very minute. "
      ]
    },
    {
      "cell_type": "code",
      "metadata": {
        "id": "CyQBC949VNIj",
        "colab_type": "code",
        "colab": {
          "base_uri": "https://localhost:8080/",
          "height": 185
        },
        "outputId": "5da28bc1-0873-4a3d-a1c5-0cb6d2e76c9e"
      },
      "source": [
        "a,b = l_descend(a,df1[\"G1\"].values,b,df1[\"G3\"].values,learning_rate,10000)"
      ],
      "execution_count": 40,
      "outputs": [
        {
          "output_type": "stream",
          "text": [
            "Error: 0.011444935150487258 | a: 0.9822678759186922 | b: -0.026130680163248866\n",
            "Error: 0.00952058697399748 | a: 0.9712239651517325 | b: 0.039167749801394654\n",
            "Error: 0.009440873051670103 | a: 0.9462109112680438 | b: 0.05197060012529855\n",
            "Error: 0.009400701833571444 | a: 0.928454363542979 | b: 0.061059089890229276\n",
            "Error: 0.00938045785715156 | a: 0.9158491866719034 | b: 0.06751090826975609\n",
            "Error: 0.009370256060923189 | a: 0.9069009110043099 | b: 0.0720909827905453\n",
            "Error: 0.00936511494417187 | a: 0.9005486290615627 | b: 0.07534232704452365\n",
            "Error: 0.00936252411792335 | a: 0.8960392143565283 | b: 0.07765042037573361\n",
            "Error: 0.009361218490960426 | a: 0.8928380307243697 | b: 0.079288910307723\n",
            "Error: 0.009360560530293523 | a: 0.8905655458638919 | b: 0.08045205619135357\n"
          ],
          "name": "stdout"
        }
      ]
    },
    {
      "cell_type": "code",
      "metadata": {
        "id": "UsbV4AWLVWqg",
        "colab_type": "code",
        "colab": {
          "base_uri": "https://localhost:8080/",
          "height": 34
        },
        "outputId": "3fd14473-acdb-4189-d85e-5ec69e361861"
      },
      "source": [
        "print(\"{0:.2f}%\".format(np.sqrt(l_error(a, df2[\"G1\"],b, df2[\"G3\"]))*100))"
      ],
      "execution_count": 41,
      "outputs": [
        {
          "output_type": "stream",
          "text": [
            "9.94%\n"
          ],
          "name": "stdout"
        }
      ]
    },
    {
      "cell_type": "code",
      "metadata": {
        "id": "hGbv2r0tVhMk",
        "colab_type": "code",
        "colab": {
          "base_uri": "https://localhost:8080/",
          "height": 34
        },
        "outputId": "3da39f67-804d-483d-e9df-a94adef6a5e1"
      },
      "source": [
        "print(\"{0:.2f}%\".format(np.sqrt(l_error(a, test_df1[\"G1\"],b, test_df1[\"G3\"]))*100))"
      ],
      "execution_count": 42,
      "outputs": [
        {
          "output_type": "stream",
          "text": [
            "6.87%\n"
          ],
          "name": "stdout"
        }
      ]
    },
    {
      "cell_type": "markdown",
      "metadata": {
        "id": "1f7y4MvpnR-7",
        "colab_type": "text"
      },
      "source": [
        "By replacing \"G2\" with \"G1\", even with our second Data set, the accuraacy remains pretty much the same, compared to the first data set\n",
        "\n",
        "In a similar fashion to the way we use Multivariate Polynomial Regression on our first data set, we will do the same on our second data set. Since we already have the functions defined for us, we can simply insert the required values."
      ]
    },
    {
      "cell_type": "markdown",
      "metadata": {
        "id": "iBEMocKcz_IX",
        "colab_type": "text"
      },
      "source": [
        "##Multivariate Polynomial Regression"
      ]
    },
    {
      "cell_type": "markdown",
      "metadata": {
        "colab_type": "text",
        "id": "AGryMGUJ0fpF"
      },
      "source": [
        "Since we have Functions for this approach defined, we will simply call it, without defining it a second time."
      ]
    },
    {
      "cell_type": "markdown",
      "metadata": {
        "id": "nKH4kAmA0hup",
        "colab_type": "text"
      },
      "source": [
        "###Training the Model"
      ]
    },
    {
      "cell_type": "code",
      "metadata": {
        "id": "Bc2kLCu4Vm7O",
        "colab_type": "code",
        "colab": {
          "base_uri": "https://localhost:8080/",
          "height": 185
        },
        "outputId": "13a20b77-dd9a-4dd7-f308-468805132143"
      },
      "source": [
        "a,b,c = 0,0,0\n",
        "learning_rate = 0.05\n",
        "iterations = 10000\n",
        "\n",
        "a, b, c = descend(a, b, c, df2[\"G2\"], df2[\"failures\"], df2[\"G3\"], learning_rate, iterations)"
      ],
      "execution_count": 43,
      "outputs": [
        {
          "output_type": "stream",
          "text": [
            "Error: 0.12985 | a: 0.00000 | b: 0.00000 | c: 0.00000\n",
            "Error: 0.00380 | a: 0.84638 | b: -0.12353 | c: 0.05132\n",
            "Error: 0.00327 | a: 0.95627 | b: -0.05577 | c: -0.00912\n",
            "Error: 0.00322 | a: 0.98253 | b: -0.03303 | c: -0.02402\n",
            "Error: 0.00321 | a: 0.98935 | b: -0.02681 | c: -0.02791\n",
            "Error: 0.00321 | a: 0.99115 | b: -0.02516 | c: -0.02894\n",
            "Error: 0.00321 | a: 0.99162 | b: -0.02472 | c: -0.02921\n",
            "Error: 0.00321 | a: 0.99175 | b: -0.02460 | c: -0.02928\n",
            "Error: 0.00321 | a: 0.99178 | b: -0.02457 | c: -0.02930\n",
            "Error: 0.00321 | a: 0.99179 | b: -0.02456 | c: -0.02931\n"
          ],
          "name": "stdout"
        }
      ]
    },
    {
      "cell_type": "markdown",
      "metadata": {
        "colab_type": "text",
        "id": "cIJtDfb50wCQ"
      },
      "source": [
        "###Deviation of Prediction From Actual Output (Train and Test)"
      ]
    },
    {
      "cell_type": "code",
      "metadata": {
        "colab_type": "code",
        "outputId": "d961c1a1-1f52-4bda-ba0a-667a8039eaae",
        "id": "52bne836V_5y",
        "colab": {
          "base_uri": "https://localhost:8080/",
          "height": 34
        }
      },
      "source": [
        "print(\"{0:.2f}%\".format(np.sqrt(error(a,b,c, df2[\"G2\"], df2[\"failures\"], df2[\"G3\"]))*100)) "
      ],
      "execution_count": 44,
      "outputs": [
        {
          "output_type": "stream",
          "text": [
            "5.67%\n"
          ],
          "name": "stdout"
        }
      ]
    },
    {
      "cell_type": "code",
      "metadata": {
        "colab_type": "code",
        "outputId": "ade1669d-b19d-4967-be4a-73a1f0f3d26a",
        "id": "cOuB6S_mV_6b",
        "colab": {
          "base_uri": "https://localhost:8080/",
          "height": 320
        }
      },
      "source": [
        "fig = plt.figure()\n",
        "ax = fig.add_subplot(111, projection='3d')\n",
        "ax.view_init(0,180)\n",
        "\n",
        "ax.scatter(df2[\"G2\"], df2[\"failures\"], df2[\"G3\"], c='y', marker='.')\n",
        "ax.scatter(df2[\"G2\"], df2[\"failures\"], hypothesis(a,b,c,df2[\"G2\"], df2[\"failures\"]), c='r', marker='.')"
      ],
      "execution_count": 45,
      "outputs": [
        {
          "output_type": "execute_result",
          "data": {
            "text/plain": [
              "<mpl_toolkits.mplot3d.art3d.Path3DCollection at 0x7fc594b49dd8>"
            ]
          },
          "metadata": {
            "tags": []
          },
          "execution_count": 45
        },
        {
          "output_type": "display_data",
          "data": {
            "image/png": "[encoded data removed]",
            "text/plain": [
              "<Figure size 360x360 with 1 Axes>"
            ]
          },
          "metadata": {
            "tags": []
          }
        }
      ]
    },
    {
      "cell_type": "code",
      "metadata": {
        "colab_type": "code",
        "outputId": "77c8cd9f-0b60-4bed-ce22-336cbf6e5f4c",
        "id": "UnCt5VlkV_6l",
        "colab": {
          "base_uri": "https://localhost:8080/",
          "height": 34
        }
      },
      "source": [
        "print(\"{0:.2f}%\".format(np.sqrt(error(a,b,c, test_df2[\"G2\"], test_df2[\"failures\"], test_df2[\"G3\"]))*100)) "
      ],
      "execution_count": 46,
      "outputs": [
        {
          "output_type": "stream",
          "text": [
            "7.84%\n"
          ],
          "name": "stdout"
        }
      ]
    },
    {
      "cell_type": "markdown",
      "metadata": {
        "id": "6ME4vuNRoOQJ",
        "colab_type": "text"
      },
      "source": [
        "As we can see above, our accuracies differ ever so slightly with the ones we obtained in Linear Regression, for the same data set. But if we comapred it to the accuracies we got for Multivariate Polynomial Regression in the first data set, we end up with a similar conclusion, when we compared the two data sets using Linear Regression."
      ]
    },
    {
      "cell_type": "markdown",
      "metadata": {
        "id": "Bjl50KA105uu",
        "colab_type": "text"
      },
      "source": [
        "#Summary"
      ]
    },
    {
      "cell_type": "markdown",
      "metadata": {
        "id": "JtiOLPi9pkiN",
        "colab_type": "text"
      },
      "source": [
        "By taking into account the **various** accuracies we have, we can conclude that there was not substantial difference in taking an extra feature, or even trying to fit a polynomial curve. This means that \"G2\" is such a dominating feature, that even adding another attribute does not afffect the model that much.\n",
        "\n",
        "This means that, if we need to predict the final marks of a student, even  though all attributes do have a correlation to the final marks, the marks obtained in the second period affect the final marks greatly. So we can conclude that for a student to do well in his/her final exams, the student must do well in the second period test as well."
      ]
    },
    {
      "cell_type": "code",
      "metadata": {
        "id": "kmN1TbRjrEEv",
        "colab_type": "code",
        "colab": {}
      },
      "source": [
        ""
      ],
      "execution_count": 0,
      "outputs": []
    }
  ]
}